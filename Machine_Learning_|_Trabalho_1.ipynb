{
  "cells": [
    {
      "cell_type": "markdown",
      "metadata": {
        "id": "view-in-github",
        "colab_type": "text"
      },
      "source": [
        "<a href=\"https://colab.research.google.com/github/Lucasdmnasc/MachineLearning/blob/main/Machine_Learning_%7C_Trabalho_1.ipynb\" target=\"_parent\"><img src=\"https://colab.research.google.com/assets/colab-badge.svg\" alt=\"Open In Colab\"/></a>"
      ]
    },
    {
      "cell_type": "markdown",
      "id": "4fec2490",
      "metadata": {
        "id": "4fec2490"
      },
      "source": [
        "# SME0829 - Aprenzidado de Máquina (2022)\n",
        "\n",
        "Universidade de São Paulo  \n",
        "Instituto de Ciências Matemáticas e de Computação  \n",
        "\n",
        "26/05/2022"
      ]
    },
    {
      "cell_type": "markdown",
      "source": [
        "# Trabalho 1: Linear, Ridge and Lasso Regressions"
      ],
      "metadata": {
        "id": "iLRCiHc7H44J"
      },
      "id": "iLRCiHc7H44J"
    },
    {
      "cell_type": "markdown",
      "id": "914e553d",
      "metadata": {
        "id": "914e553d"
      },
      "source": [
        "## Grupo:"
      ]
    },
    {
      "cell_type": "markdown",
      "id": "c54b3693",
      "metadata": {
        "id": "c54b3693"
      },
      "source": [
        "Caio Gabriel dos Santos $\\quad \\quad \\quad \\;$ 11218236\n",
        "\n",
        "João Paulo Gucci $\\quad \\quad \\quad \\quad \\quad \\; \\;$ 11345489\n",
        "\n",
        "Lucas Della M. do Nascimento $\\; \\; \\; \\;$ 11218278\n",
        "\n",
        "Mateus Souza Pires $\\quad \\quad \\quad \\quad \\; \\; \\;$ 11833639\n",
        "\n",
        "Vivian Kiyomi Amano $\\quad \\quad \\quad \\quad \\;$ 11300502"
      ]
    },
    {
      "cell_type": "markdown",
      "source": [
        "## Introdução"
      ],
      "metadata": {
        "id": "1jazf0OBIyQf"
      },
      "id": "1jazf0OBIyQf"
    },
    {
      "cell_type": "markdown",
      "source": [
        "\n",
        "\n",
        "```\n",
        "# Isto está formatado como código\n",
        "```\n",
        "\n",
        "### Importância do problema  "
      ],
      "metadata": {
        "id": "II5geqsavrh0"
      },
      "id": "II5geqsavrh0"
    },
    {
      "cell_type": "markdown",
      "source": [
        "### Objetivo"
      ],
      "metadata": {
        "id": "msQhpAJuvhgc"
      },
      "id": "msQhpAJuvhgc"
    },
    {
      "cell_type": "markdown",
      "source": [
        "O objetivo é selecionar o melhor modelo, a partir das comparações que serão feitas ao decorrer do trabalho, levando em consideração a quantidade de covariáveis que serão incluídas, valor do Erro Quadrático Médio (EQM) e do Erro Padrão. A partir deste modelo selecionado, o objetivo é fazer predições.  \n",
        "\n",
        "Lembrando que a linguagem escolhida para este trabalho foi o **Python**."
      ],
      "metadata": {
        "id": "z6SwPc4xvi0W"
      },
      "id": "z6SwPc4xvi0W"
    },
    {
      "cell_type": "markdown",
      "source": [
        "## Modelo\n"
      ],
      "metadata": {
        "id": "LmefbtFRI129"
      },
      "id": "LmefbtFRI129"
    },
    {
      "cell_type": "markdown",
      "source": [
        "### Regressão Linear Múltipla"
      ],
      "metadata": {
        "id": "KW37Psydsf3r"
      },
      "id": "KW37Psydsf3r"
    },
    {
      "cell_type": "markdown",
      "source": [
        "#### Método dos Mínimos Quadrados"
      ],
      "metadata": {
        "id": "FDq3eF9GtkFx"
      },
      "id": "FDq3eF9GtkFx"
    },
    {
      "cell_type": "markdown",
      "source": [
        "Para minimizar o erro, é necessário uma maneira de calcular o erro em primeiro lugar. Uma função de perda no aprendizado de máquina é simplesmente uma medida de quão diferente o valor previsto é do valor real.  \n",
        "\n",
        "$$L(x) = \\sum_{i=1}^{n} (y_i - p_i)^2$$"
      ],
      "metadata": {
        "id": "AnPrFnZstkib"
      },
      "id": "AnPrFnZstkib"
    },
    {
      "cell_type": "markdown",
      "source": [
        "Agora que foi determinada a função perda, falta minimizá-la. Isso é feito encontrando a derivada parcial de $L$, igualando-a a $0$ e, em seguida, encontrando uma expressão para $m$ e $c$. Depois de fazermos as contas, ficamos com estas equações:  \n",
        "\n",
        "$$ \\frac {\\sum_{i=1}^{n} (x_i - \\bar{x} ) ( y_{i} - \\bar{y} )} {\\sum_{i=1}^{n} (x_i - \\bar{x} )^2} $$  \n",
        "\n",
        "$ \\; $\n",
        "\n",
        "$$ c = \\bar{y} - m \\bar{x}$$  \n",
        "\n",
        "\n",
        "Aqui $\\bar{x}$ é a média de todos os valores na entrada X e $\\bar{y}$ é a média de todos os valores na saída Y desejada. (MENON, 2018)"
      ],
      "metadata": {
        "id": "lLm_lroqtk-z"
      },
      "id": "lLm_lroqtk-z"
    },
    {
      "cell_type": "markdown",
      "source": [
        "### Regressão de Ridge"
      ],
      "metadata": {
        "id": "vaaU2WhKq6Ke"
      },
      "id": "vaaU2WhKq6Ke"
    },
    {
      "cell_type": "markdown",
      "source": [
        "[texto do link](https:// [texto do link](https://))A Regressão de Ridge é um método para estimar os coeficientes de modelos de regressão múltipla em cenários onde variáveis ​​linearmente independentes são altamente correlacionadas. \\[Wikipédia\\]\n",
        "A Regressão de Ridge é muito semelhante aos mínimos quadrados, exceto pelo fato de que os seus coeficientes são estimados minimizando uma quantidade ligeiramente diferente (os mínimos quadrados minimizam as diferenças entre a previsão $\\hat{y}$ e o verdadeiro valor observado da variável dependente $y $). Em particular, o coeficiente de Regressão da Ridge estima que $\\left( β^{R}_{i} \\; \\forall \\; i \\in \\mathbb{N} \\right)$ são os valores que minimizam a seguinte função de custo:\n",
        "\n",
        "$$ \\sum_{i=1}^{n} \\left( y_{i} - \\beta_{0} - \\sum_{j=1}^{p} \\beta_{j} x_{ij} \\right) + \\lambda \\sum_{j=1}^{p} \\left|\\left| \\beta_{j}^{R} \\right|\\right|_{L2} $$\n",
        "\n",
        "Onde:\n",
        "\n",
        "$n$ - tamanho dos dados\n",
        "\n",
        "$p$ - número de coeficientes $\\beta^{R}$\n",
        "\n",
        "$\\lambda \\ge 0$ é um parâmetro de ajuste a ser determinado separadamente.\n",
        "\n",
        "\n",
        "\n",
        "Ou simplesmente:\n",
        "\n",
        "\n",
        "$$ \\sum \\left( y\\_observado - \\hat{y}\\_predito \\right) + \\lambda \\sum \\left( \\left|\\left| \\beta_{j}^{R} \\right|\\right|_{L2} \\right) $$\n",
        "\n",
        "\n",
        "Explanation: https://youtu.be/5asL5Eq2x0A\n",
        "\n",
        "\n",
        "Assim, a Regressão de Ridge busca os coeficientes $\\beta_{i}^{R} \\; \\forall \\; i \\in \\mathbb{N}$ que torna o RSS menor, mas considerando a soma mínima da norma L2 do vetor de todos os $\\beta$'s."
      ],
      "metadata": {
        "id": "nJwZAy7oq2j1"
      },
      "id": "nJwZAy7oq2j1"
    },
    {
      "cell_type": "markdown",
      "source": [
        "#### O parâmetro de ajuste $\\lambda$"
      ],
      "metadata": {
        "id": "Qip7UheBrC3c"
      },
      "id": "Qip7UheBrC3c"
    },
    {
      "cell_type": "markdown",
      "source": [
        "O $\\lambda$ é usado para balancear o impacto dos 2 termos da expressão que serão minimizados. Portanto, escolher o melhor $\\lambda$ é fundamental.  \n",
        "\n",
        "Quando $\\lambda=0$, o termo de penalidade não tem efeito, e a regressão Ridge produzirá as estimativas dos mínimos quadrados.  \n",
        "\n",
        "No entanto, à medida que $\\lambda → \\infty$ os coeficientes da regressão Ridge se aproximam de zero. Essa penalidade reduz os coeficientes em um grau muito elevado e torna o modelo mais tendencioso, resultando em um EQM mais alto.  \n",
        "\n",
        "Porém, o objetivo não é estimar, e sim prever (fornecer boas respostas). E poder fazer previsões usando variáveis altamente correlacionadas na etapa de treinamento é favorável.  \n",
        "\n",
        "Por esta razão, a regressão Ridge é realmente importante."
      ],
      "metadata": {
        "id": "PtLjADA3rFBm"
      },
      "id": "PtLjADA3rFBm"
    },
    {
      "cell_type": "markdown",
      "source": [
        "#### Como escolher o valor de $\\lambda$?"
      ],
      "metadata": {
        "id": "cfK9L-OhrRI4"
      },
      "id": "cfK9L-OhrRI4"
    },
    {
      "cell_type": "markdown",
      "source": [
        "Conjunto de treinamento:  será usado para obter o valor dos coeficientes $W$ a cada valor de $\\lambda$. Assume-se que o valor dos coeficientes $W$ para cada valor de $\\lambda$ seja $W\\lambda$.  \n",
        "\n",
        "Conjunto de validação: os diferentes valores de $W\\lambda$ serão avaliados no conjunto de validação. Aquele que tiver o erro de menor valor será selecionado.  \n",
        "\n",
        "Conjunto de teste: o valor selecionado dos coeficientes $W$ será novamente avaliado pelo conjunto de teste.  \n",
        "\n",
        "O método acima é utilizado apenas se uma quantidade suficiente de dados estiver presente.  \n",
        "\n",
        "E é assim que finalmente o valor de $\\lambda$ é selecionado. O processo é uma espécie de força bruta. Mas com suposições inteligentes e experiência, as iterações para adivinhar o valor de $\\lambda$ podem ser reduzidas.  \n",
        "\n",
        "Na prática, o valor de $\\lambda$ é escolhido por validação cruzada. [(SINGHAL, 2018)](<https://towardsdatascience.com/machine-learning-ridge-regression-in-detail-76787a2f8e2d>)"
      ],
      "metadata": {
        "id": "K6NYKra7rUfY"
      },
      "id": "K6NYKra7rUfY"
    },
    {
      "cell_type": "markdown",
      "source": [
        "### Regressão de Lasso"
      ],
      "metadata": {
        "id": "nW6ThjbDrXoj"
      },
      "id": "nW6ThjbDrXoj"
    },
    {
      "cell_type": "markdown",
      "id": "e805f122",
      "metadata": {
        "id": "e805f122"
      },
      "source": [
        "É uma alternativa relativamente recente à regressão de Ridge que supera essa desvantagem."
      ]
    },
    {
      "cell_type": "markdown",
      "source": [
        "Os coeficientes Lasso, $\\hat{\\beta_{\\lambda}^{L}}$ , minimizam a seguinte função de custo:\n",
        "\n",
        "$$ \\sum_{i=1}^{n} \\left( y_{i} - \\beta_{0} - \\sum_{j=1}^{p} \\beta_{j} x_{ij} \\right) + \\lambda \\sum_{j=1}^{p} \\left|\\left| \\beta_{j}^{L} \\right|\\right|_{L1} $$\n",
        "\n",
        "Em que:\n",
        "\n",
        "$n$ - tamanho dos dados\n",
        "\n",
        "$p$ - número de coeficientes $\\beta^{R}$\n",
        "\n",
        "$\\lambda \\ge 0$ é um parâmetro de ajuste a ser determinado separadamente.\n",
        "\n",
        "\n",
        "\n",
        "De forma simples:\n",
        "\n",
        "\n",
        "$$ \\sum \\left( y\\_observado - \\hat{y}\\_predito \\right) + \\lambda \\sum \\left( \\left|\\left| \\beta_{i}^{L} \\right|\\right|_{L1} \\right) $$\n",
        "\n",
        "Assim, a Regressão do Lasso busca os coeficientes $\\beta_{i}^{L} \\; \\forall \\; i \\in \\mathbb{N}$ que torna o RSS menor, mas considerando a soma mínima da norma L1 de todos os $\\beta$'s.\n",
        "\n",
        "Nesse caso, a penalidade tem o efeito de forçar algumas das estimativas de coeficientes a serem exatamente iguais a zero quando o parâmetro de sintonia λ for suficientemente grande ($\\lambda \\to ∞$)."
      ],
      "metadata": {
        "id": "-ZqoBnFzraKn"
      },
      "id": "-ZqoBnFzraKn"
    },
    {
      "cell_type": "markdown",
      "source": [
        "#### Benefício em usar a regressão de Lasso"
      ],
      "metadata": {
        "id": "tpVuVBVvrbZw"
      },
      "id": "tpVuVBVvrbZw"
    },
    {
      "cell_type": "markdown",
      "source": [
        "Modelos gerados a partir da Regressão de Lasso são geralmente muito mais fáceis de interpretar do que aqueles produzidos por regressão de Ridge."
      ],
      "metadata": {
        "id": "vOd-syaGrbF4"
      },
      "id": "vOd-syaGrbF4"
    },
    {
      "cell_type": "markdown",
      "source": [
        "## Dados"
      ],
      "metadata": {
        "id": "2M05U06ZI7w7"
      },
      "id": "2M05U06ZI7w7"
    },
    {
      "cell_type": "markdown",
      "id": "5906ae67",
      "metadata": {
        "id": "5906ae67"
      },
      "source": [
        "### Dependências necessárias do Python"
      ]
    },
    {
      "cell_type": "code",
      "source": [
        "!pip install glmnet"
      ],
      "metadata": {
        "colab": {
          "base_uri": "https://localhost:8080/"
        },
        "id": "xBy5QYv8VE8F",
        "outputId": "27596127-c4c5-417f-fbe9-dc80411f9c40"
      },
      "id": "xBy5QYv8VE8F",
      "execution_count": null,
      "outputs": [
        {
          "output_type": "stream",
          "name": "stdout",
          "text": [
            "Looking in indexes: https://pypi.org/simple, https://us-python.pkg.dev/colab-wheels/public/simple/\n",
            "Requirement already satisfied: glmnet in /usr/local/lib/python3.7/dist-packages (2.2.1)\n",
            "Requirement already satisfied: numpy>=1.9.2 in /usr/local/lib/python3.7/dist-packages (from glmnet) (1.21.6)\n",
            "Requirement already satisfied: scikit-learn>=0.18.0 in /usr/local/lib/python3.7/dist-packages (from glmnet) (1.0.2)\n",
            "Requirement already satisfied: scipy>=0.14.1 in /usr/local/lib/python3.7/dist-packages (from glmnet) (1.4.1)\n",
            "Requirement already satisfied: joblib>=0.14.1 in /usr/local/lib/python3.7/dist-packages (from glmnet) (1.1.0)\n",
            "Requirement already satisfied: threadpoolctl>=2.0.0 in /usr/local/lib/python3.7/dist-packages (from scikit-learn>=0.18.0->glmnet) (3.1.0)\n"
          ]
        }
      ]
    },
    {
      "cell_type": "code",
      "execution_count": null,
      "id": "7319a7f8",
      "metadata": {
        "id": "7319a7f8"
      },
      "outputs": [],
      "source": [
        "import pandas as pd\n",
        "import numpy as np\n",
        "import matplotlib.pyplot as plt\n",
        "import seaborn as sns\n",
        "import glmnet as gln\n",
        "from itertools import combinations\n",
        "import math\n",
        "from sklearn.preprocessing import scale \n",
        "from sklearn import model_selection\n",
        "from sklearn.linear_model import LinearRegression, Ridge, RidgeCV, Lasso, LassoCV\n",
        "from sklearn.decomposition import PCA\n",
        "from sklearn.cross_decomposition import PLSRegression\n",
        "from sklearn.model_selection import KFold, cross_val_score\n",
        "from sklearn.metrics import mean_squared_error\n",
        "from sklearn.preprocessing import StandardScaler"
      ]
    },
    {
      "cell_type": "code",
      "execution_count": null,
      "id": "8e6f1d7c",
      "metadata": {
        "id": "8e6f1d7c"
      },
      "outputs": [],
      "source": [
        "%matplotlib inline\n",
        "plt.style.use('seaborn-white')"
      ]
    },
    {
      "cell_type": "markdown",
      "id": "fdf2a989",
      "metadata": {
        "id": "fdf2a989"
      },
      "source": [
        "### Descrição dos dados"
      ]
    },
    {
      "cell_type": "markdown",
      "id": "9bfd9aa0",
      "metadata": {
        "id": "9bfd9aa0"
      },
      "source": [
        "A base de dados pode ser obtida através do link: <https://github.com/JWarmenhoven/ISLR-python/tree/master/Notebooks/Data>.\n"
      ]
    },
    {
      "cell_type": "markdown",
      "source": [
        "Descrição do conjunto de dados dos lançadores (hitters):\n",
        "Este conjunto de dados contém as seguintes informações sobre jogadores de beisebol (hitter é o jogador que acerta a bola com o taco):\n",
        "\n",
        "'AtBat', 'Hits', 'HmRun', 'Runs', 'RBI', 'Walks', 'Years',\n",
        "'CAtBat', 'CHits', 'CHmRun', 'CRuns', 'CRBI', 'CWalks', 'League',\n",
        "'Division', 'PutOuts', 'Assists', 'Errors', 'Salary', 'NewLeague'."
      ],
      "metadata": {
        "id": "1RC85Gge0gE6"
      },
      "id": "1RC85Gge0gE6"
    },
    {
      "cell_type": "code",
      "execution_count": null,
      "id": "531ef812",
      "metadata": {
        "id": "531ef812",
        "outputId": "d34806dd-dc66-4f7f-cc66-fd5ccb99bef8",
        "colab": {
          "base_uri": "https://localhost:8080/"
        }
      },
      "outputs": [
        {
          "output_type": "stream",
          "name": "stdout",
          "text": [
            "<class 'pandas.core.frame.DataFrame'>\n",
            "Index: 263 entries, -Alan Ashby to -Willie Wilson\n",
            "Data columns (total 20 columns):\n",
            " #   Column     Non-Null Count  Dtype  \n",
            "---  ------     --------------  -----  \n",
            " 0   AtBat      263 non-null    int64  \n",
            " 1   Hits       263 non-null    int64  \n",
            " 2   HmRun      263 non-null    int64  \n",
            " 3   Runs       263 non-null    int64  \n",
            " 4   RBI        263 non-null    int64  \n",
            " 5   Walks      263 non-null    int64  \n",
            " 6   Years      263 non-null    int64  \n",
            " 7   CAtBat     263 non-null    int64  \n",
            " 8   CHits      263 non-null    int64  \n",
            " 9   CHmRun     263 non-null    int64  \n",
            " 10  CRuns      263 non-null    int64  \n",
            " 11  CRBI       263 non-null    int64  \n",
            " 12  CWalks     263 non-null    int64  \n",
            " 13  League     263 non-null    object \n",
            " 14  Division   263 non-null    object \n",
            " 15  PutOuts    263 non-null    int64  \n",
            " 16  Assists    263 non-null    int64  \n",
            " 17  Errors     263 non-null    int64  \n",
            " 18  Salary     263 non-null    float64\n",
            " 19  NewLeague  263 non-null    object \n",
            "dtypes: float64(1), int64(16), object(3)\n",
            "memory usage: 43.1+ KB\n"
          ]
        }
      ],
      "source": [
        "df = pd.read_csv('Hitters.csv', index_col=0).dropna()\n",
        "df.index.name = 'Player'\n",
        "df.info()"
      ]
    },
    {
      "cell_type": "code",
      "execution_count": null,
      "id": "1260a1a2",
      "metadata": {
        "id": "1260a1a2",
        "colab": {
          "base_uri": "https://localhost:8080/",
          "height": 238
        },
        "outputId": "6b2ae33f-d72f-4bd7-e3ef-e5d830bff606"
      },
      "outputs": [
        {
          "output_type": "execute_result",
          "data": {
            "text/plain": [
              "                   AtBat  Hits  HmRun  Runs  RBI  Walks  Years  CAtBat  CHits  \\\n",
              "Player                                                                          \n",
              "-Alan Ashby          315    81      7    24   38     39     14    3449    835   \n",
              "-Alvin Davis         479   130     18    66   72     76      3    1624    457   \n",
              "-Andre Dawson        496   141     20    65   78     37     11    5628   1575   \n",
              "-Andres Galarraga    321    87     10    39   42     30      2     396    101   \n",
              "-Alfredo Griffin     594   169      4    74   51     35     11    4408   1133   \n",
              "\n",
              "                   CHmRun  CRuns  CRBI  CWalks League Division  PutOuts  \\\n",
              "Player                                                                    \n",
              "-Alan Ashby            69    321   414     375      N        W      632   \n",
              "-Alvin Davis           63    224   266     263      A        W      880   \n",
              "-Andre Dawson         225    828   838     354      N        E      200   \n",
              "-Andres Galarraga      12     48    46      33      N        E      805   \n",
              "-Alfredo Griffin       19    501   336     194      A        W      282   \n",
              "\n",
              "                   Assists  Errors  Salary NewLeague  \n",
              "Player                                                \n",
              "-Alan Ashby             43      10   475.0         N  \n",
              "-Alvin Davis            82      14   480.0         A  \n",
              "-Andre Dawson           11       3   500.0         N  \n",
              "-Andres Galarraga       40       4    91.5         N  \n",
              "-Alfredo Griffin       421      25   750.0         A  "
            ],
            "text/html": [
              "\n",
              "  <div id=\"df-38786c4d-3f01-4e9e-9936-b2385dae1e45\">\n",
              "    <div class=\"colab-df-container\">\n",
              "      <div>\n",
              "<style scoped>\n",
              "    .dataframe tbody tr th:only-of-type {\n",
              "        vertical-align: middle;\n",
              "    }\n",
              "\n",
              "    .dataframe tbody tr th {\n",
              "        vertical-align: top;\n",
              "    }\n",
              "\n",
              "    .dataframe thead th {\n",
              "        text-align: right;\n",
              "    }\n",
              "</style>\n",
              "<table border=\"1\" class=\"dataframe\">\n",
              "  <thead>\n",
              "    <tr style=\"text-align: right;\">\n",
              "      <th></th>\n",
              "      <th>AtBat</th>\n",
              "      <th>Hits</th>\n",
              "      <th>HmRun</th>\n",
              "      <th>Runs</th>\n",
              "      <th>RBI</th>\n",
              "      <th>Walks</th>\n",
              "      <th>Years</th>\n",
              "      <th>CAtBat</th>\n",
              "      <th>CHits</th>\n",
              "      <th>CHmRun</th>\n",
              "      <th>CRuns</th>\n",
              "      <th>CRBI</th>\n",
              "      <th>CWalks</th>\n",
              "      <th>League</th>\n",
              "      <th>Division</th>\n",
              "      <th>PutOuts</th>\n",
              "      <th>Assists</th>\n",
              "      <th>Errors</th>\n",
              "      <th>Salary</th>\n",
              "      <th>NewLeague</th>\n",
              "    </tr>\n",
              "    <tr>\n",
              "      <th>Player</th>\n",
              "      <th></th>\n",
              "      <th></th>\n",
              "      <th></th>\n",
              "      <th></th>\n",
              "      <th></th>\n",
              "      <th></th>\n",
              "      <th></th>\n",
              "      <th></th>\n",
              "      <th></th>\n",
              "      <th></th>\n",
              "      <th></th>\n",
              "      <th></th>\n",
              "      <th></th>\n",
              "      <th></th>\n",
              "      <th></th>\n",
              "      <th></th>\n",
              "      <th></th>\n",
              "      <th></th>\n",
              "      <th></th>\n",
              "      <th></th>\n",
              "    </tr>\n",
              "  </thead>\n",
              "  <tbody>\n",
              "    <tr>\n",
              "      <th>-Alan Ashby</th>\n",
              "      <td>315</td>\n",
              "      <td>81</td>\n",
              "      <td>7</td>\n",
              "      <td>24</td>\n",
              "      <td>38</td>\n",
              "      <td>39</td>\n",
              "      <td>14</td>\n",
              "      <td>3449</td>\n",
              "      <td>835</td>\n",
              "      <td>69</td>\n",
              "      <td>321</td>\n",
              "      <td>414</td>\n",
              "      <td>375</td>\n",
              "      <td>N</td>\n",
              "      <td>W</td>\n",
              "      <td>632</td>\n",
              "      <td>43</td>\n",
              "      <td>10</td>\n",
              "      <td>475.0</td>\n",
              "      <td>N</td>\n",
              "    </tr>\n",
              "    <tr>\n",
              "      <th>-Alvin Davis</th>\n",
              "      <td>479</td>\n",
              "      <td>130</td>\n",
              "      <td>18</td>\n",
              "      <td>66</td>\n",
              "      <td>72</td>\n",
              "      <td>76</td>\n",
              "      <td>3</td>\n",
              "      <td>1624</td>\n",
              "      <td>457</td>\n",
              "      <td>63</td>\n",
              "      <td>224</td>\n",
              "      <td>266</td>\n",
              "      <td>263</td>\n",
              "      <td>A</td>\n",
              "      <td>W</td>\n",
              "      <td>880</td>\n",
              "      <td>82</td>\n",
              "      <td>14</td>\n",
              "      <td>480.0</td>\n",
              "      <td>A</td>\n",
              "    </tr>\n",
              "    <tr>\n",
              "      <th>-Andre Dawson</th>\n",
              "      <td>496</td>\n",
              "      <td>141</td>\n",
              "      <td>20</td>\n",
              "      <td>65</td>\n",
              "      <td>78</td>\n",
              "      <td>37</td>\n",
              "      <td>11</td>\n",
              "      <td>5628</td>\n",
              "      <td>1575</td>\n",
              "      <td>225</td>\n",
              "      <td>828</td>\n",
              "      <td>838</td>\n",
              "      <td>354</td>\n",
              "      <td>N</td>\n",
              "      <td>E</td>\n",
              "      <td>200</td>\n",
              "      <td>11</td>\n",
              "      <td>3</td>\n",
              "      <td>500.0</td>\n",
              "      <td>N</td>\n",
              "    </tr>\n",
              "    <tr>\n",
              "      <th>-Andres Galarraga</th>\n",
              "      <td>321</td>\n",
              "      <td>87</td>\n",
              "      <td>10</td>\n",
              "      <td>39</td>\n",
              "      <td>42</td>\n",
              "      <td>30</td>\n",
              "      <td>2</td>\n",
              "      <td>396</td>\n",
              "      <td>101</td>\n",
              "      <td>12</td>\n",
              "      <td>48</td>\n",
              "      <td>46</td>\n",
              "      <td>33</td>\n",
              "      <td>N</td>\n",
              "      <td>E</td>\n",
              "      <td>805</td>\n",
              "      <td>40</td>\n",
              "      <td>4</td>\n",
              "      <td>91.5</td>\n",
              "      <td>N</td>\n",
              "    </tr>\n",
              "    <tr>\n",
              "      <th>-Alfredo Griffin</th>\n",
              "      <td>594</td>\n",
              "      <td>169</td>\n",
              "      <td>4</td>\n",
              "      <td>74</td>\n",
              "      <td>51</td>\n",
              "      <td>35</td>\n",
              "      <td>11</td>\n",
              "      <td>4408</td>\n",
              "      <td>1133</td>\n",
              "      <td>19</td>\n",
              "      <td>501</td>\n",
              "      <td>336</td>\n",
              "      <td>194</td>\n",
              "      <td>A</td>\n",
              "      <td>W</td>\n",
              "      <td>282</td>\n",
              "      <td>421</td>\n",
              "      <td>25</td>\n",
              "      <td>750.0</td>\n",
              "      <td>A</td>\n",
              "    </tr>\n",
              "  </tbody>\n",
              "</table>\n",
              "</div>\n",
              "      <button class=\"colab-df-convert\" onclick=\"convertToInteractive('df-38786c4d-3f01-4e9e-9936-b2385dae1e45')\"\n",
              "              title=\"Convert this dataframe to an interactive table.\"\n",
              "              style=\"display:none;\">\n",
              "        \n",
              "  <svg xmlns=\"http://www.w3.org/2000/svg\" height=\"24px\"viewBox=\"0 0 24 24\"\n",
              "       width=\"24px\">\n",
              "    <path d=\"M0 0h24v24H0V0z\" fill=\"none\"/>\n",
              "    <path d=\"M18.56 5.44l.94 2.06.94-2.06 2.06-.94-2.06-.94-.94-2.06-.94 2.06-2.06.94zm-11 1L8.5 8.5l.94-2.06 2.06-.94-2.06-.94L8.5 2.5l-.94 2.06-2.06.94zm10 10l.94 2.06.94-2.06 2.06-.94-2.06-.94-.94-2.06-.94 2.06-2.06.94z\"/><path d=\"M17.41 7.96l-1.37-1.37c-.4-.4-.92-.59-1.43-.59-.52 0-1.04.2-1.43.59L10.3 9.45l-7.72 7.72c-.78.78-.78 2.05 0 2.83L4 21.41c.39.39.9.59 1.41.59.51 0 1.02-.2 1.41-.59l7.78-7.78 2.81-2.81c.8-.78.8-2.07 0-2.86zM5.41 20L4 18.59l7.72-7.72 1.47 1.35L5.41 20z\"/>\n",
              "  </svg>\n",
              "      </button>\n",
              "      \n",
              "  <style>\n",
              "    .colab-df-container {\n",
              "      display:flex;\n",
              "      flex-wrap:wrap;\n",
              "      gap: 12px;\n",
              "    }\n",
              "\n",
              "    .colab-df-convert {\n",
              "      background-color: #E8F0FE;\n",
              "      border: none;\n",
              "      border-radius: 50%;\n",
              "      cursor: pointer;\n",
              "      display: none;\n",
              "      fill: #1967D2;\n",
              "      height: 32px;\n",
              "      padding: 0 0 0 0;\n",
              "      width: 32px;\n",
              "    }\n",
              "\n",
              "    .colab-df-convert:hover {\n",
              "      background-color: #E2EBFA;\n",
              "      box-shadow: 0px 1px 2px rgba(60, 64, 67, 0.3), 0px 1px 3px 1px rgba(60, 64, 67, 0.15);\n",
              "      fill: #174EA6;\n",
              "    }\n",
              "\n",
              "    [theme=dark] .colab-df-convert {\n",
              "      background-color: #3B4455;\n",
              "      fill: #D2E3FC;\n",
              "    }\n",
              "\n",
              "    [theme=dark] .colab-df-convert:hover {\n",
              "      background-color: #434B5C;\n",
              "      box-shadow: 0px 1px 3px 1px rgba(0, 0, 0, 0.15);\n",
              "      filter: drop-shadow(0px 1px 2px rgba(0, 0, 0, 0.3));\n",
              "      fill: #FFFFFF;\n",
              "    }\n",
              "  </style>\n",
              "\n",
              "      <script>\n",
              "        const buttonEl =\n",
              "          document.querySelector('#df-38786c4d-3f01-4e9e-9936-b2385dae1e45 button.colab-df-convert');\n",
              "        buttonEl.style.display =\n",
              "          google.colab.kernel.accessAllowed ? 'block' : 'none';\n",
              "\n",
              "        async function convertToInteractive(key) {\n",
              "          const element = document.querySelector('#df-38786c4d-3f01-4e9e-9936-b2385dae1e45');\n",
              "          const dataTable =\n",
              "            await google.colab.kernel.invokeFunction('convertToInteractive',\n",
              "                                                     [key], {});\n",
              "          if (!dataTable) return;\n",
              "\n",
              "          const docLinkHtml = 'Like what you see? Visit the ' +\n",
              "            '<a target=\"_blank\" href=https://colab.research.google.com/notebooks/data_table.ipynb>data table notebook</a>'\n",
              "            + ' to learn more about interactive tables.';\n",
              "          element.innerHTML = '';\n",
              "          dataTable['output_type'] = 'display_data';\n",
              "          await google.colab.output.renderOutput(dataTable, element);\n",
              "          const docLink = document.createElement('div');\n",
              "          docLink.innerHTML = docLinkHtml;\n",
              "          element.appendChild(docLink);\n",
              "        }\n",
              "      </script>\n",
              "    </div>\n",
              "  </div>\n",
              "  "
            ]
          },
          "metadata": {},
          "execution_count": 247
        }
      ],
      "source": [
        "df.head()"
      ]
    },
    {
      "cell_type": "code",
      "execution_count": null,
      "id": "e101342e",
      "metadata": {
        "id": "e101342e",
        "colab": {
          "base_uri": "https://localhost:8080/"
        },
        "outputId": "a246b8c4-3bc9-45f6-ceda-66faa5fb9fe1"
      },
      "outputs": [
        {
          "output_type": "stream",
          "name": "stdout",
          "text": [
            "<class 'pandas.core.frame.DataFrame'>\n",
            "Index: 263 entries, -Alan Ashby to -Willie Wilson\n",
            "Data columns (total 6 columns):\n",
            " #   Column       Non-Null Count  Dtype\n",
            "---  ------       --------------  -----\n",
            " 0   League_A     263 non-null    uint8\n",
            " 1   League_N     263 non-null    uint8\n",
            " 2   Division_E   263 non-null    uint8\n",
            " 3   Division_W   263 non-null    uint8\n",
            " 4   NewLeague_A  263 non-null    uint8\n",
            " 5   NewLeague_N  263 non-null    uint8\n",
            "dtypes: uint8(6)\n",
            "memory usage: 3.6+ KB\n",
            "                   League_A  League_N  Division_E  Division_W  NewLeague_A  \\\n",
            "Player                                                                       \n",
            "-Alan Ashby               0         1           0           1            0   \n",
            "-Alvin Davis              1         0           0           1            1   \n",
            "-Andre Dawson             0         1           1           0            0   \n",
            "-Andres Galarraga         0         1           1           0            0   \n",
            "-Alfredo Griffin          1         0           0           1            1   \n",
            "\n",
            "                   NewLeague_N  \n",
            "Player                          \n",
            "-Alan Ashby                  1  \n",
            "-Alvin Davis                 0  \n",
            "-Andre Dawson                1  \n",
            "-Andres Galarraga            1  \n",
            "-Alfredo Griffin             0  \n"
          ]
        }
      ],
      "source": [
        "dummies = pd.get_dummies(df[['League', 'Division', 'NewLeague']])\n",
        "dummies.info()\n",
        "print(dummies.head())"
      ]
    },
    {
      "cell_type": "code",
      "execution_count": null,
      "id": "55115fd1",
      "metadata": {
        "id": "55115fd1",
        "colab": {
          "base_uri": "https://localhost:8080/"
        },
        "outputId": "c5486c78-19fe-490f-8073-5b099971c481"
      },
      "outputs": [
        {
          "output_type": "stream",
          "name": "stdout",
          "text": [
            "<class 'pandas.core.frame.DataFrame'>\n",
            "Index: 263 entries, -Alan Ashby to -Willie Wilson\n",
            "Data columns (total 19 columns):\n",
            " #   Column       Non-Null Count  Dtype  \n",
            "---  ------       --------------  -----  \n",
            " 0   AtBat        263 non-null    float64\n",
            " 1   Hits         263 non-null    float64\n",
            " 2   HmRun        263 non-null    float64\n",
            " 3   Runs         263 non-null    float64\n",
            " 4   RBI          263 non-null    float64\n",
            " 5   Walks        263 non-null    float64\n",
            " 6   Years        263 non-null    float64\n",
            " 7   CAtBat       263 non-null    float64\n",
            " 8   CHits        263 non-null    float64\n",
            " 9   CHmRun       263 non-null    float64\n",
            " 10  CRuns        263 non-null    float64\n",
            " 11  CRBI         263 non-null    float64\n",
            " 12  CWalks       263 non-null    float64\n",
            " 13  PutOuts      263 non-null    float64\n",
            " 14  Assists      263 non-null    float64\n",
            " 15  Errors       263 non-null    float64\n",
            " 16  League_N     263 non-null    uint8  \n",
            " 17  Division_W   263 non-null    uint8  \n",
            " 18  NewLeague_N  263 non-null    uint8  \n",
            "dtypes: float64(16), uint8(3)\n",
            "memory usage: 35.7+ KB\n"
          ]
        }
      ],
      "source": [
        "y = df.Salary\n",
        "\n",
        "# Drop the columRegressionn with the independent variable (Salary), and columns for which we created dummy variables\n",
        "X_ = df.drop(['Salary', 'League', 'Division', 'NewLeague'], axis=1).astype('float64')\n",
        "\n",
        "# Define the feature set X\n",
        "X = pd.concat([X_, dummies[['League_N', 'Division_W', 'NewLeague_N']]], axis=1)\n",
        "X.info()"
      ]
    },
    {
      "cell_type": "code",
      "source": [
        "correlations = []\n",
        "for variable_1, variable_2 in combinations(list(X.columns), 2):\n",
        "    corr = np.correlate(X[variable_1], X[variable_2])[0]\n",
        "    correlations += [[f\"{variable_1}-{variable_2}\", corr]]\n",
        "\n",
        "correlations = pd.DataFrame(correlations, columns=[\"Variables\", \"Correlation\"])\n",
        "correlations = correlations.sort_values(by=[\"Correlation\"], ascending=False, ignore_index=True)\n",
        "print(correlations)\n",
        "print(f\"Média das correlações = {correlations['Correlation'].mean()}\")"
      ],
      "metadata": {
        "id": "ce_mxQqreLae",
        "colab": {
          "base_uri": "https://localhost:8080/"
        },
        "outputId": "9dec5d0e-50c8-47f0-aaf0-ba93be7aa2ba"
      },
      "id": "ce_mxQqreLae",
      "execution_count": null,
      "outputs": [
        {
          "output_type": "stream",
          "name": "stdout",
          "text": [
            "                  Variables  Correlation\n",
            "0              CAtBat-CHits  891167503.0\n",
            "1              CAtBat-CRuns  447462034.0\n",
            "2               CAtBat-CRBI  415120396.0\n",
            "3             CAtBat-CWalks  325343251.0\n",
            "4              AtBat-CAtBat  300401845.0\n",
            "..                      ...          ...\n",
            "166          Years-League_N        886.0\n",
            "167       Years-NewLeague_N        877.0\n",
            "168    League_N-NewLeague_N        114.0\n",
            "169     League_N-Division_W         63.0\n",
            "170  Division_W-NewLeague_N         62.0\n",
            "\n",
            "[171 rows x 2 columns]\n",
            "Média das correlações = 24475924.9122807\n"
          ]
        }
      ]
    },
    {
      "cell_type": "code",
      "execution_count": null,
      "id": "d2088d54",
      "metadata": {
        "id": "d2088d54",
        "colab": {
          "base_uri": "https://localhost:8080/",
          "height": 238
        },
        "outputId": "5b6430e3-3d1d-45db-9278-dcf1b8b98d70"
      },
      "outputs": [
        {
          "output_type": "execute_result",
          "data": {
            "text/plain": [
              "                   AtBat   Hits  HmRun  Runs   RBI  Walks  Years  CAtBat  \\\n",
              "Player                                                                     \n",
              "-Alan Ashby        315.0   81.0    7.0  24.0  38.0   39.0   14.0  3449.0   \n",
              "-Alvin Davis       479.0  130.0   18.0  66.0  72.0   76.0    3.0  1624.0   \n",
              "-Andre Dawson      496.0  141.0   20.0  65.0  78.0   37.0   11.0  5628.0   \n",
              "-Andres Galarraga  321.0   87.0   10.0  39.0  42.0   30.0    2.0   396.0   \n",
              "-Alfredo Griffin   594.0  169.0    4.0  74.0  51.0   35.0   11.0  4408.0   \n",
              "\n",
              "                    CHits  CHmRun  CRuns   CRBI  CWalks  PutOuts  Assists  \\\n",
              "Player                                                                      \n",
              "-Alan Ashby         835.0    69.0  321.0  414.0   375.0    632.0     43.0   \n",
              "-Alvin Davis        457.0    63.0  224.0  266.0   263.0    880.0     82.0   \n",
              "-Andre Dawson      1575.0   225.0  828.0  838.0   354.0    200.0     11.0   \n",
              "-Andres Galarraga   101.0    12.0   48.0   46.0    33.0    805.0     40.0   \n",
              "-Alfredo Griffin   1133.0    19.0  501.0  336.0   194.0    282.0    421.0   \n",
              "\n",
              "                   Errors  League_N  Division_W  NewLeague_N  \n",
              "Player                                                        \n",
              "-Alan Ashby          10.0         1           1            1  \n",
              "-Alvin Davis         14.0         0           1            0  \n",
              "-Andre Dawson         3.0         1           0            1  \n",
              "-Andres Galarraga     4.0         1           0            1  \n",
              "-Alfredo Griffin     25.0         0           1            0  "
            ],
            "text/html": [
              "\n",
              "  <div id=\"df-317e234f-8952-462f-bfe7-3d3e45373ae3\">\n",
              "    <div class=\"colab-df-container\">\n",
              "      <div>\n",
              "<style scoped>\n",
              "    .dataframe tbody tr th:only-of-type {\n",
              "        vertical-align: middle;\n",
              "    }\n",
              "\n",
              "    .dataframe tbody tr th {\n",
              "        vertical-align: top;\n",
              "    }\n",
              "\n",
              "    .dataframe thead th {\n",
              "        text-align: right;\n",
              "    }\n",
              "</style>\n",
              "<table border=\"1\" class=\"dataframe\">\n",
              "  <thead>\n",
              "    <tr style=\"text-align: right;\">\n",
              "      <th></th>\n",
              "      <th>AtBat</th>\n",
              "      <th>Hits</th>\n",
              "      <th>HmRun</th>\n",
              "      <th>Runs</th>\n",
              "      <th>RBI</th>\n",
              "      <th>Walks</th>\n",
              "      <th>Years</th>\n",
              "      <th>CAtBat</th>\n",
              "      <th>CHits</th>\n",
              "      <th>CHmRun</th>\n",
              "      <th>CRuns</th>\n",
              "      <th>CRBI</th>\n",
              "      <th>CWalks</th>\n",
              "      <th>PutOuts</th>\n",
              "      <th>Assists</th>\n",
              "      <th>Errors</th>\n",
              "      <th>League_N</th>\n",
              "      <th>Division_W</th>\n",
              "      <th>NewLeague_N</th>\n",
              "    </tr>\n",
              "    <tr>\n",
              "      <th>Player</th>\n",
              "      <th></th>\n",
              "      <th></th>\n",
              "      <th></th>\n",
              "      <th></th>\n",
              "      <th></th>\n",
              "      <th></th>\n",
              "      <th></th>\n",
              "      <th></th>\n",
              "      <th></th>\n",
              "      <th></th>\n",
              "      <th></th>\n",
              "      <th></th>\n",
              "      <th></th>\n",
              "      <th></th>\n",
              "      <th></th>\n",
              "      <th></th>\n",
              "      <th></th>\n",
              "      <th></th>\n",
              "      <th></th>\n",
              "    </tr>\n",
              "  </thead>\n",
              "  <tbody>\n",
              "    <tr>\n",
              "      <th>-Alan Ashby</th>\n",
              "      <td>315.0</td>\n",
              "      <td>81.0</td>\n",
              "      <td>7.0</td>\n",
              "      <td>24.0</td>\n",
              "      <td>38.0</td>\n",
              "      <td>39.0</td>\n",
              "      <td>14.0</td>\n",
              "      <td>3449.0</td>\n",
              "      <td>835.0</td>\n",
              "      <td>69.0</td>\n",
              "      <td>321.0</td>\n",
              "      <td>414.0</td>\n",
              "      <td>375.0</td>\n",
              "      <td>632.0</td>\n",
              "      <td>43.0</td>\n",
              "      <td>10.0</td>\n",
              "      <td>1</td>\n",
              "      <td>1</td>\n",
              "      <td>1</td>\n",
              "    </tr>\n",
              "    <tr>\n",
              "      <th>-Alvin Davis</th>\n",
              "      <td>479.0</td>\n",
              "      <td>130.0</td>\n",
              "      <td>18.0</td>\n",
              "      <td>66.0</td>\n",
              "      <td>72.0</td>\n",
              "      <td>76.0</td>\n",
              "      <td>3.0</td>\n",
              "      <td>1624.0</td>\n",
              "      <td>457.0</td>\n",
              "      <td>63.0</td>\n",
              "      <td>224.0</td>\n",
              "      <td>266.0</td>\n",
              "      <td>263.0</td>\n",
              "      <td>880.0</td>\n",
              "      <td>82.0</td>\n",
              "      <td>14.0</td>\n",
              "      <td>0</td>\n",
              "      <td>1</td>\n",
              "      <td>0</td>\n",
              "    </tr>\n",
              "    <tr>\n",
              "      <th>-Andre Dawson</th>\n",
              "      <td>496.0</td>\n",
              "      <td>141.0</td>\n",
              "      <td>20.0</td>\n",
              "      <td>65.0</td>\n",
              "      <td>78.0</td>\n",
              "      <td>37.0</td>\n",
              "      <td>11.0</td>\n",
              "      <td>5628.0</td>\n",
              "      <td>1575.0</td>\n",
              "      <td>225.0</td>\n",
              "      <td>828.0</td>\n",
              "      <td>838.0</td>\n",
              "      <td>354.0</td>\n",
              "      <td>200.0</td>\n",
              "      <td>11.0</td>\n",
              "      <td>3.0</td>\n",
              "      <td>1</td>\n",
              "      <td>0</td>\n",
              "      <td>1</td>\n",
              "    </tr>\n",
              "    <tr>\n",
              "      <th>-Andres Galarraga</th>\n",
              "      <td>321.0</td>\n",
              "      <td>87.0</td>\n",
              "      <td>10.0</td>\n",
              "      <td>39.0</td>\n",
              "      <td>42.0</td>\n",
              "      <td>30.0</td>\n",
              "      <td>2.0</td>\n",
              "      <td>396.0</td>\n",
              "      <td>101.0</td>\n",
              "      <td>12.0</td>\n",
              "      <td>48.0</td>\n",
              "      <td>46.0</td>\n",
              "      <td>33.0</td>\n",
              "      <td>805.0</td>\n",
              "      <td>40.0</td>\n",
              "      <td>4.0</td>\n",
              "      <td>1</td>\n",
              "      <td>0</td>\n",
              "      <td>1</td>\n",
              "    </tr>\n",
              "    <tr>\n",
              "      <th>-Alfredo Griffin</th>\n",
              "      <td>594.0</td>\n",
              "      <td>169.0</td>\n",
              "      <td>4.0</td>\n",
              "      <td>74.0</td>\n",
              "      <td>51.0</td>\n",
              "      <td>35.0</td>\n",
              "      <td>11.0</td>\n",
              "      <td>4408.0</td>\n",
              "      <td>1133.0</td>\n",
              "      <td>19.0</td>\n",
              "      <td>501.0</td>\n",
              "      <td>336.0</td>\n",
              "      <td>194.0</td>\n",
              "      <td>282.0</td>\n",
              "      <td>421.0</td>\n",
              "      <td>25.0</td>\n",
              "      <td>0</td>\n",
              "      <td>1</td>\n",
              "      <td>0</td>\n",
              "    </tr>\n",
              "  </tbody>\n",
              "</table>\n",
              "</div>\n",
              "      <button class=\"colab-df-convert\" onclick=\"convertToInteractive('df-317e234f-8952-462f-bfe7-3d3e45373ae3')\"\n",
              "              title=\"Convert this dataframe to an interactive table.\"\n",
              "              style=\"display:none;\">\n",
              "        \n",
              "  <svg xmlns=\"http://www.w3.org/2000/svg\" height=\"24px\"viewBox=\"0 0 24 24\"\n",
              "       width=\"24px\">\n",
              "    <path d=\"M0 0h24v24H0V0z\" fill=\"none\"/>\n",
              "    <path d=\"M18.56 5.44l.94 2.06.94-2.06 2.06-.94-2.06-.94-.94-2.06-.94 2.06-2.06.94zm-11 1L8.5 8.5l.94-2.06 2.06-.94-2.06-.94L8.5 2.5l-.94 2.06-2.06.94zm10 10l.94 2.06.94-2.06 2.06-.94-2.06-.94-.94-2.06-.94 2.06-2.06.94z\"/><path d=\"M17.41 7.96l-1.37-1.37c-.4-.4-.92-.59-1.43-.59-.52 0-1.04.2-1.43.59L10.3 9.45l-7.72 7.72c-.78.78-.78 2.05 0 2.83L4 21.41c.39.39.9.59 1.41.59.51 0 1.02-.2 1.41-.59l7.78-7.78 2.81-2.81c.8-.78.8-2.07 0-2.86zM5.41 20L4 18.59l7.72-7.72 1.47 1.35L5.41 20z\"/>\n",
              "  </svg>\n",
              "      </button>\n",
              "      \n",
              "  <style>\n",
              "    .colab-df-container {\n",
              "      display:flex;\n",
              "      flex-wrap:wrap;\n",
              "      gap: 12px;\n",
              "    }\n",
              "\n",
              "    .colab-df-convert {\n",
              "      background-color: #E8F0FE;\n",
              "      border: none;\n",
              "      border-radius: 50%;\n",
              "      cursor: pointer;\n",
              "      display: none;\n",
              "      fill: #1967D2;\n",
              "      height: 32px;\n",
              "      padding: 0 0 0 0;\n",
              "      width: 32px;\n",
              "    }\n",
              "\n",
              "    .colab-df-convert:hover {\n",
              "      background-color: #E2EBFA;\n",
              "      box-shadow: 0px 1px 2px rgba(60, 64, 67, 0.3), 0px 1px 3px 1px rgba(60, 64, 67, 0.15);\n",
              "      fill: #174EA6;\n",
              "    }\n",
              "\n",
              "    [theme=dark] .colab-df-convert {\n",
              "      background-color: #3B4455;\n",
              "      fill: #D2E3FC;\n",
              "    }\n",
              "\n",
              "    [theme=dark] .colab-df-convert:hover {\n",
              "      background-color: #434B5C;\n",
              "      box-shadow: 0px 1px 3px 1px rgba(0, 0, 0, 0.15);\n",
              "      filter: drop-shadow(0px 1px 2px rgba(0, 0, 0, 0.3));\n",
              "      fill: #FFFFFF;\n",
              "    }\n",
              "  </style>\n",
              "\n",
              "      <script>\n",
              "        const buttonEl =\n",
              "          document.querySelector('#df-317e234f-8952-462f-bfe7-3d3e45373ae3 button.colab-df-convert');\n",
              "        buttonEl.style.display =\n",
              "          google.colab.kernel.accessAllowed ? 'block' : 'none';\n",
              "\n",
              "        async function convertToInteractive(key) {\n",
              "          const element = document.querySelector('#df-317e234f-8952-462f-bfe7-3d3e45373ae3');\n",
              "          const dataTable =\n",
              "            await google.colab.kernel.invokeFunction('convertToInteractive',\n",
              "                                                     [key], {});\n",
              "          if (!dataTable) return;\n",
              "\n",
              "          const docLinkHtml = 'Like what you see? Visit the ' +\n",
              "            '<a target=\"_blank\" href=https://colab.research.google.com/notebooks/data_table.ipynb>data table notebook</a>'\n",
              "            + ' to learn more about interactive tables.';\n",
              "          element.innerHTML = '';\n",
              "          dataTable['output_type'] = 'display_data';\n",
              "          await google.colab.output.renderOutput(dataTable, element);\n",
              "          const docLink = document.createElement('div');\n",
              "          docLink.innerHTML = docLinkHtml;\n",
              "          element.appendChild(docLink);\n",
              "        }\n",
              "      </script>\n",
              "    </div>\n",
              "  </div>\n",
              "  "
            ]
          },
          "metadata": {},
          "execution_count": 251
        }
      ],
      "source": [
        "X.head(5)"
      ]
    },
    {
      "cell_type": "markdown",
      "source": [
        "### Dividindo os dados em treinamento e validação"
      ],
      "metadata": {
        "id": "ZuxErfqnJrcU"
      },
      "id": "ZuxErfqnJrcU"
    },
    {
      "cell_type": "code",
      "execution_count": null,
      "id": "b83200b1",
      "metadata": {
        "id": "b83200b1"
      },
      "outputs": [],
      "source": [
        "X_train = pd.read_csv('Hitters_X_train.csv', index_col=0)\n",
        "y_train = pd.read_csv('Hitters_y_train.csv', index_col=0)\n",
        "X_test = pd.read_csv('Hitters_X_test.csv', index_col=0)\n",
        "y_test = pd.read_csv('Hitters_y_test.csv', index_col=0)"
      ]
    },
    {
      "cell_type": "markdown",
      "id": "f79a30f3",
      "metadata": {
        "id": "f79a30f3"
      },
      "source": [
        "### Definindo o dicionário de previsões de teste:"
      ]
    },
    {
      "cell_type": "code",
      "execution_count": null,
      "id": "1c954ec5",
      "metadata": {
        "id": "1c954ec5"
      },
      "outputs": [],
      "source": [
        "predictions = dict.fromkeys([\n",
        "    \"Linear Regression\",\n",
        "    \"Ridge Regression\",\n",
        "    \"Lasso Regression\",\n",
        "    \"True Value\"\n",
        "])\n",
        "\n",
        "coefficients = dict.fromkeys([\n",
        "    \"Coefficients\",\n",
        "    \"Linear Regression\",\n",
        "    \"Ridge Regression\",\n",
        "    \"Lasso Regression\"\n",
        "])\n",
        "\n",
        "coefficients[\"Coefficients\"] = X.columns\n",
        "\n",
        "models = dict.fromkeys([\n",
        "    \"EQM\",\n",
        "    \"Erro padrão\"\n",
        "])\n",
        "\n",
        "models[\"EQM\"] = []\n",
        "models[\"Erro padrão\"] = []\n",
        "\n",
        "models = pd.DataFrame.from_dict(models)"
      ]
    },
    {
      "cell_type": "markdown",
      "id": "e182d98a",
      "metadata": {
        "id": "e182d98a"
      },
      "source": [
        "## Método dos Mínimos Quadrados"
      ]
    },
    {
      "cell_type": "markdown",
      "id": "49d80216",
      "metadata": {
        "id": "49d80216"
      },
      "source": [
        "### Implementação"
      ]
    },
    {
      "cell_type": "code",
      "execution_count": null,
      "id": "afd901b6",
      "metadata": {
        "id": "afd901b6"
      },
      "outputs": [],
      "source": [
        "linear_regression = LinearRegression()"
      ]
    },
    {
      "cell_type": "code",
      "execution_count": null,
      "id": "d51de22c",
      "metadata": {
        "id": "d51de22c",
        "colab": {
          "base_uri": "https://localhost:8080/"
        },
        "outputId": "96e869fd-7d32-48f6-97f6-6e87e1a20a84"
      },
      "outputs": [
        {
          "output_type": "execute_result",
          "data": {
            "text/plain": [
              "LinearRegression()"
            ]
          },
          "metadata": {},
          "execution_count": 255
        }
      ],
      "source": [
        "linear_regression.fit(X_train, y_train)"
      ]
    },
    {
      "cell_type": "code",
      "execution_count": null,
      "id": "f710bd44",
      "metadata": {
        "id": "f710bd44",
        "colab": {
          "base_uri": "https://localhost:8080/"
        },
        "outputId": "77f7a5b0-2fbb-43f2-a18f-9718f31230ec"
      },
      "outputs": [
        {
          "output_type": "execute_result",
          "data": {
            "text/plain": [
              "array([[-2.54027494e+00,  8.36682108e+00,  1.16451245e+01,\n",
              "        -9.09922578e+00,  2.44104711e+00,  9.23440293e+00,\n",
              "        -2.29367327e+01, -1.81539446e-01, -1.15981963e-01,\n",
              "        -1.33887794e+00,  3.32838295e+00,  7.53648802e-02,\n",
              "        -1.07841010e+00,  5.97606516e+01, -9.88623333e+01,\n",
              "         3.40868490e-01,  3.41647530e-01, -6.42071595e-01,\n",
              "        -6.74415887e-01]])"
            ]
          },
          "metadata": {},
          "execution_count": 256
        }
      ],
      "source": [
        "linear_regression.coef_"
      ]
    },
    {
      "cell_type": "code",
      "source": [
        "coefficients[\"Linear Regression\"] = linear_regression.coef_.flatten()"
      ],
      "metadata": {
        "id": "Qc8Q8GVMNd2o"
      },
      "id": "Qc8Q8GVMNd2o",
      "execution_count": null,
      "outputs": []
    },
    {
      "cell_type": "code",
      "execution_count": null,
      "id": "f1158e5c",
      "metadata": {
        "id": "f1158e5c",
        "colab": {
          "base_uri": "https://localhost:8080/"
        },
        "outputId": "4163b8d4-13f4-48db-b62a-4940553dfde4"
      },
      "outputs": [
        {
          "output_type": "stream",
          "name": "stdout",
          "text": [
            "MSE = 114780.61044842967\n"
          ]
        }
      ],
      "source": [
        "y_pred = linear_regression.predict(X_test)\n",
        "mse = mean_squared_error(y_test, y_pred)\n",
        "print(f\"MSE = {mse}\")"
      ]
    },
    {
      "cell_type": "code",
      "source": [
        "models.at[\"Linear Regression\", \"EQM\"] = mse"
      ],
      "metadata": {
        "id": "QUDq7dj5QKos"
      },
      "id": "QUDq7dj5QKos",
      "execution_count": null,
      "outputs": []
    },
    {
      "cell_type": "code",
      "execution_count": null,
      "id": "07d8859b",
      "metadata": {
        "id": "07d8859b"
      },
      "outputs": [],
      "source": [
        "predictions[\"Linear Regression\"] = y_pred.flatten()"
      ]
    },
    {
      "cell_type": "markdown",
      "id": "cd461493",
      "metadata": {
        "id": "cd461493"
      },
      "source": [
        "Essa variação pode ser vista em alguns $\\beta$'s:"
      ]
    },
    {
      "cell_type": "code",
      "execution_count": null,
      "id": "6c8660d7",
      "metadata": {
        "id": "6c8660d7",
        "colab": {
          "base_uri": "https://localhost:8080/"
        },
        "outputId": "15929e8d-8982-4ae6-d567-dcca94cd7572"
      },
      "outputs": [
        {
          "output_type": "execute_result",
          "data": {
            "text/plain": [
              "AtBat          -2.540275\n",
              "Hits            8.366821\n",
              "HmRun          11.645124\n",
              "Runs           -9.099226\n",
              "RBI             2.441047\n",
              "Walks           9.234403\n",
              "Years         -22.936733\n",
              "CAtBat         -0.181539\n",
              "CHits          -0.115982\n",
              "CHmRun         -1.338878\n",
              "CRuns           3.328383\n",
              "CRBI            0.075365\n",
              "CWalks         -1.078410\n",
              "PutOuts        59.760652\n",
              "Assists       -98.862333\n",
              "Errors          0.340868\n",
              "League_N        0.341648\n",
              "Division_W     -0.642072\n",
              "NewLeague_N    -0.674416\n",
              "dtype: float64"
            ]
          },
          "metadata": {},
          "execution_count": 261
        }
      ],
      "source": [
        "pd.Series(linear_regression.coef_.flatten(), index=X.columns)"
      ]
    },
    {
      "cell_type": "markdown",
      "id": "b5f9054b",
      "metadata": {
        "id": "b5f9054b"
      },
      "source": [
        "## Regressão de Ridge"
      ]
    },
    {
      "cell_type": "markdown",
      "id": "af5ee187",
      "metadata": {
        "id": "af5ee187"
      },
      "source": [
        "### Implementação"
      ]
    },
    {
      "cell_type": "markdown",
      "id": "5ed84c68",
      "metadata": {
        "id": "5ed84c68"
      },
      "source": [
        "No sklearn.linear_model.Ridge (usado nesta implementação) o parâmetro $\\lambda$ é chamado de $\\alpha$. Ele não só aceita um valor, mas também um array de termos que irá multiplicar cada coeficiente $\\beta$.\n",
        "\n",
        "Os valores numéricos fornecidos (o valor ou todos os valores dentro de uma matriz) para esta classe devem ser não negativos."
      ]
    },
    {
      "cell_type": "code",
      "execution_count": null,
      "id": "5fac6d5c",
      "metadata": {
        "id": "5fac6d5c",
        "colab": {
          "base_uri": "https://localhost:8080/"
        },
        "outputId": "9c372311-d271-4787-f8f6-dc63c683dc31"
      },
      "outputs": [
        {
          "output_type": "execute_result",
          "data": {
            "text/plain": [
              "array([5.00000000e+09, 3.78231664e+09, 2.86118383e+09, 2.16438064e+09,\n",
              "       1.63727458e+09, 1.23853818e+09, 9.36908711e+08, 7.08737081e+08,\n",
              "       5.36133611e+08, 4.05565415e+08, 3.06795364e+08, 2.32079442e+08,\n",
              "       1.75559587e+08, 1.32804389e+08, 1.00461650e+08, 7.59955541e+07,\n",
              "       5.74878498e+07, 4.34874501e+07, 3.28966612e+07, 2.48851178e+07,\n",
              "       1.88246790e+07, 1.42401793e+07, 1.07721735e+07, 8.14875417e+06,\n",
              "       6.16423370e+06, 4.66301673e+06, 3.52740116e+06, 2.66834962e+06,\n",
              "       2.01850863e+06, 1.52692775e+06, 1.15506485e+06, 8.73764200e+05,\n",
              "       6.60970574e+05, 5.00000000e+05, 3.78231664e+05, 2.86118383e+05,\n",
              "       2.16438064e+05, 1.63727458e+05, 1.23853818e+05, 9.36908711e+04,\n",
              "       7.08737081e+04, 5.36133611e+04, 4.05565415e+04, 3.06795364e+04,\n",
              "       2.32079442e+04, 1.75559587e+04, 1.32804389e+04, 1.00461650e+04,\n",
              "       7.59955541e+03, 5.74878498e+03, 4.34874501e+03, 3.28966612e+03,\n",
              "       2.48851178e+03, 1.88246790e+03, 1.42401793e+03, 1.07721735e+03,\n",
              "       8.14875417e+02, 6.16423370e+02, 4.66301673e+02, 3.52740116e+02,\n",
              "       2.66834962e+02, 2.01850863e+02, 1.52692775e+02, 1.15506485e+02,\n",
              "       8.73764200e+01, 6.60970574e+01, 5.00000000e+01, 3.78231664e+01,\n",
              "       2.86118383e+01, 2.16438064e+01, 1.63727458e+01, 1.23853818e+01,\n",
              "       9.36908711e+00, 7.08737081e+00, 5.36133611e+00, 4.05565415e+00,\n",
              "       3.06795364e+00, 2.32079442e+00, 1.75559587e+00, 1.32804389e+00,\n",
              "       1.00461650e+00, 7.59955541e-01, 5.74878498e-01, 4.34874501e-01,\n",
              "       3.28966612e-01, 2.48851178e-01, 1.88246790e-01, 1.42401793e-01,\n",
              "       1.07721735e-01, 8.14875417e-02, 6.16423370e-02, 4.66301673e-02,\n",
              "       3.52740116e-02, 2.66834962e-02, 2.01850863e-02, 1.52692775e-02,\n",
              "       1.15506485e-02, 8.73764200e-03, 6.60970574e-03, 5.00000000e-03])"
            ]
          },
          "metadata": {},
          "execution_count": 262
        }
      ],
      "source": [
        "alphas = 10**np.linspace(10,-2,100)*0.5\n",
        "alphas"
      ]
    },
    {
      "cell_type": "markdown",
      "id": "d260d234",
      "metadata": {
        "id": "d260d234"
      },
      "source": [
        "Nesta implementação, usaremos a biblioteca sklearn.linear_model.RidgeCV para realizar um crossvalidation (por padrão, ela executa uma validação cruzada eficiente Leave-One-Out).\n",
        "\n",
        "Este processo é importante para encontrar o melhor $\\lambda$ (parâmetro $\\alpha$ do sklearn.linear_model.Ridge)."
      ]
    },
    {
      "cell_type": "code",
      "execution_count": null,
      "id": "60242f3b",
      "metadata": {
        "id": "60242f3b",
        "colab": {
          "base_uri": "https://localhost:8080/"
        },
        "outputId": "ad066acc-2ad3-42f5-c3c9-c5a1a28cdd77"
      },
      "outputs": [
        {
          "output_type": "execute_result",
          "data": {
            "text/plain": [
              "RidgeCV(alphas=array([5.00000000e+09, 3.78231664e+09, 2.86118383e+09, 2.16438064e+09,\n",
              "       1.63727458e+09, 1.23853818e+09, 9.36908711e+08, 7.08737081e+08,\n",
              "       5.36133611e+08, 4.05565415e+08, 3.06795364e+08, 2.32079442e+08,\n",
              "       1.75559587e+08, 1.32804389e+08, 1.00461650e+08, 7.59955541e+07,\n",
              "       5.74878498e+07, 4.34874501e+07, 3.28966612e+07, 2.48851178e+07,\n",
              "       1.88246790e+07, 1.42401793e+0...\n",
              "       3.06795364e+00, 2.32079442e+00, 1.75559587e+00, 1.32804389e+00,\n",
              "       1.00461650e+00, 7.59955541e-01, 5.74878498e-01, 4.34874501e-01,\n",
              "       3.28966612e-01, 2.48851178e-01, 1.88246790e-01, 1.42401793e-01,\n",
              "       1.07721735e-01, 8.14875417e-02, 6.16423370e-02, 4.66301673e-02,\n",
              "       3.52740116e-02, 2.66834962e-02, 2.01850863e-02, 1.52692775e-02,\n",
              "       1.15506485e-02, 8.73764200e-03, 6.60970574e-03, 5.00000000e-03]),\n",
              "        scoring='neg_mean_squared_error')"
            ]
          },
          "metadata": {},
          "execution_count": 263
        }
      ],
      "source": [
        "ridgecv = RidgeCV(alphas=alphas, scoring='neg_mean_squared_error')\n",
        "ridgecv.fit(scale(X_train), y_train)"
      ]
    },
    {
      "cell_type": "code",
      "execution_count": null,
      "id": "5fe09d6c",
      "metadata": {
        "id": "5fe09d6c",
        "colab": {
          "base_uri": "https://localhost:8080/"
        },
        "outputId": "9e44fdc1-cf8d-4dd9-f365-4ce25108a45d"
      },
      "outputs": [
        {
          "output_type": "stream",
          "name": "stdout",
          "text": [
            "λ = 115.5064850041579\n"
          ]
        }
      ],
      "source": [
        "print(f\"λ = {ridgecv.alpha_}\")"
      ]
    },
    {
      "cell_type": "markdown",
      "source": [
        "### Definindo e treinando o modelo:"
      ],
      "metadata": {
        "id": "g1HUJrwec3Dk"
      },
      "id": "g1HUJrwec3Dk"
    },
    {
      "cell_type": "code",
      "execution_count": null,
      "id": "63ca5ba7",
      "metadata": {
        "id": "63ca5ba7",
        "colab": {
          "base_uri": "https://localhost:8080/"
        },
        "outputId": "3d6157b6-d8fb-4bc5-dc62-772f18fe1f7e"
      },
      "outputs": [
        {
          "output_type": "execute_result",
          "data": {
            "text/plain": [
              "Ridge(alpha=115.5064850041579)"
            ]
          },
          "metadata": {},
          "execution_count": 265
        }
      ],
      "source": [
        "ridge = Ridge(alpha=ridgecv.alpha_)\n",
        "ridge.fit(scale(X_train), y_train)"
      ]
    },
    {
      "cell_type": "markdown",
      "source": [
        "#### Exibindo os coeficientes $\\beta_{i}^{R}$ ajustados:"
      ],
      "metadata": {
        "id": "3EBDqYlccro9"
      },
      "id": "3EBDqYlccro9"
    },
    {
      "cell_type": "code",
      "execution_count": null,
      "id": "3979cc3c",
      "metadata": {
        "id": "3979cc3c",
        "colab": {
          "base_uri": "https://localhost:8080/"
        },
        "outputId": "b35a0c8c-f7c7-4a64-ed05-a50a3fcbd286"
      },
      "outputs": [
        {
          "output_type": "execute_result",
          "data": {
            "text/plain": [
              "AtBat           7.576771\n",
              "Hits           22.596030\n",
              "HmRun          18.971990\n",
              "Runs           20.193945\n",
              "RBI            21.063875\n",
              "Walks          55.713281\n",
              "Years          -4.687149\n",
              "CAtBat         20.496892\n",
              "CHits          29.230247\n",
              "CHmRun         14.293124\n",
              "CRuns          35.881788\n",
              "CRBI           20.212172\n",
              "CWalks         24.419768\n",
              "PutOuts        16.128910\n",
              "Assists       -44.102264\n",
              "Errors         54.624503\n",
              "League_N        5.771464\n",
              "Division_W     -0.293713\n",
              "NewLeague_N    11.137518\n",
              "dtype: float64"
            ]
          },
          "metadata": {},
          "execution_count": 266
        }
      ],
      "source": [
        "pd.Series(ridge.coef_.flatten(), index=X.columns)"
      ]
    },
    {
      "cell_type": "code",
      "source": [
        "coefficients[\"Ridge Regression\"] = ridge.coef_.flatten()"
      ],
      "metadata": {
        "id": "-xY2EPMqOCy1"
      },
      "id": "-xY2EPMqOCy1",
      "execution_count": null,
      "outputs": []
    },
    {
      "cell_type": "markdown",
      "id": "3f320495",
      "metadata": {
        "id": "3f320495"
      },
      "source": [
        "### Fazendo predições"
      ]
    },
    {
      "cell_type": "code",
      "execution_count": null,
      "id": "a27866bd",
      "metadata": {
        "id": "a27866bd",
        "colab": {
          "base_uri": "https://localhost:8080/"
        },
        "outputId": "67767ea9-e262-4157-9ffb-c447d8216dd8"
      },
      "outputs": [
        {
          "output_type": "stream",
          "name": "stdout",
          "text": [
            "MSE = 97384.92959172589   -> Alto\n"
          ]
        }
      ],
      "source": [
        "y_pred = ridge.predict(scale(X_test))\n",
        "mse = mean_squared_error(y_test, y_pred)\n",
        "print(f\"MSE = {mse}   -> Alto\")"
      ]
    },
    {
      "cell_type": "code",
      "source": [
        "models.at[\"Ridge Regression\", \"EQM\"] = mse"
      ],
      "metadata": {
        "id": "9MFSZJQ-Qhke"
      },
      "id": "9MFSZJQ-Qhke",
      "execution_count": null,
      "outputs": []
    },
    {
      "cell_type": "code",
      "execution_count": null,
      "id": "09414f97",
      "metadata": {
        "id": "09414f97"
      },
      "outputs": [],
      "source": [
        "predictions[\"Ridge Regression\"] = y_pred.flatten()"
      ]
    },
    {
      "cell_type": "markdown",
      "id": "8313bb86",
      "metadata": {
        "id": "8313bb86"
      },
      "source": [
        "### \"Problema\" da Regressão de Ridge:"
      ]
    },
    {
      "cell_type": "markdown",
      "id": "1631f85f",
      "metadata": {
        "id": "1631f85f"
      },
      "source": [
        "A Regressão de Ridge incluirá todos os preditores de p no modelo final.\n",
        "\n",
        "A penalidade $\\lambda \\sum_{j=1}^{p} \\beta_{j}^{2}$ encolherá todos os coeficientes para zero, mas não definirá nenhum deles exatamente para zero (a menos que $\\lambda = \\infty$ e, portanto, o termo de penalidade).\n",
        "\n",
        "Isso pode não ser um problema para a precisão da previsão, mas pode criar um desafio na interpretação do modelo em cenários em que o número de variáveis ​​p é bastante grande.\n",
        "\n",
        "Podemos desejar construir um modelo incluindo apenas os preditores que realmente contribuem efetivamente na predição.\n",
        "\n",
        "Para isso, veremos a seguir a proposta da Regressão de Lasso."
      ]
    },
    {
      "cell_type": "markdown",
      "id": "bea1c707",
      "metadata": {
        "id": "bea1c707"
      },
      "source": [
        "## Regressão de Lasso"
      ]
    },
    {
      "cell_type": "markdown",
      "id": "205e65d3",
      "metadata": {
        "id": "205e65d3"
      },
      "source": [
        "#### Implementação"
      ]
    },
    {
      "cell_type": "code",
      "execution_count": null,
      "id": "2bd65296",
      "metadata": {
        "id": "2bd65296",
        "colab": {
          "base_uri": "https://localhost:8080/"
        },
        "outputId": "4ffd92f1-ac2c-4d2c-c307-c4bcc8eb2c06"
      },
      "outputs": [
        {
          "output_type": "execute_result",
          "data": {
            "text/plain": [
              "LassoCV(cv=10, max_iter=10000)"
            ]
          },
          "metadata": {},
          "execution_count": 271
        }
      ],
      "source": [
        "lassocv = LassoCV(alphas=None, cv=10, max_iter=10000)\n",
        "lassocv.fit(scale(X_train), y_train.values.ravel())"
      ]
    },
    {
      "cell_type": "code",
      "execution_count": null,
      "id": "f993751a",
      "metadata": {
        "id": "f993751a"
      },
      "outputs": [],
      "source": [
        "lasso = Lasso(alpha=lassocv.alpha_, max_iter=10000)"
      ]
    },
    {
      "cell_type": "code",
      "execution_count": null,
      "id": "18c97a4d",
      "metadata": {
        "id": "18c97a4d",
        "colab": {
          "base_uri": "https://localhost:8080/"
        },
        "outputId": "7f748f79-1693-462a-9c85-cf1684a1f56f"
      },
      "outputs": [
        {
          "output_type": "stream",
          "name": "stdout",
          "text": [
            "λ = 30.01382256446427\n"
          ]
        }
      ],
      "source": [
        "print(f\"λ = {lassocv.alpha_}\")"
      ]
    },
    {
      "cell_type": "code",
      "execution_count": null,
      "id": "0497e8c7",
      "metadata": {
        "id": "0497e8c7",
        "colab": {
          "base_uri": "https://localhost:8080/"
        },
        "outputId": "75616e30-0b72-48b4-ae3d-4f03e62d9b50"
      },
      "outputs": [
        {
          "output_type": "stream",
          "name": "stdout",
          "text": [
            "MSE = 102924.90954696966   -> Alto\n"
          ]
        }
      ],
      "source": [
        "lasso.set_params(alpha=lassocv.alpha_)\n",
        "lasso.fit(scale(X_train), y_train)\n",
        "y_pred = lasso.predict(scale(X_test))\n",
        "mse = mean_squared_error(y_test, y_pred)\n",
        "print(f\"MSE = {mse}   -> Alto\")"
      ]
    },
    {
      "cell_type": "code",
      "source": [
        "models.at[\"Lasso Regression\", \"EQM\"] = mse"
      ],
      "metadata": {
        "id": "TZuqrZn8Qn_T"
      },
      "id": "TZuqrZn8Qn_T",
      "execution_count": null,
      "outputs": []
    },
    {
      "cell_type": "code",
      "execution_count": null,
      "id": "b8c3a135",
      "metadata": {
        "id": "b8c3a135"
      },
      "outputs": [],
      "source": [
        "predictions[\"Lasso Regression\"] = y_pred.flatten()"
      ]
    },
    {
      "cell_type": "markdown",
      "source": [
        "### Alguns dos coeficientes são agora reduzidos a zero:"
      ],
      "metadata": {
        "id": "KXBwQSul6Kqg"
      },
      "id": "KXBwQSul6Kqg"
    },
    {
      "cell_type": "code",
      "execution_count": null,
      "id": "967e052b",
      "metadata": {
        "id": "967e052b",
        "colab": {
          "base_uri": "https://localhost:8080/"
        },
        "outputId": "e32c293f-0120-49e9-ff8f-fbd70e47441e"
      },
      "outputs": [
        {
          "output_type": "execute_result",
          "data": {
            "text/plain": [
              "AtBat            0.000000\n",
              "Hits             0.000000\n",
              "HmRun            2.154219\n",
              "Runs             0.000000\n",
              "RBI             30.835560\n",
              "Walks          104.071528\n",
              "Years           -0.000000\n",
              "CAtBat           0.000000\n",
              "CHits            0.000000\n",
              "CHmRun           0.000000\n",
              "CRuns          132.858095\n",
              "CRBI             0.000000\n",
              "CWalks           0.000000\n",
              "PutOuts          1.896185\n",
              "Assists        -51.058752\n",
              "Errors          76.779641\n",
              "League_N         0.000000\n",
              "Division_W       0.000000\n",
              "NewLeague_N      0.000000\n",
              "dtype: float64"
            ]
          },
          "metadata": {},
          "execution_count": 277
        }
      ],
      "source": [
        "pd.Series(lasso.coef_, index=X.columns)"
      ]
    },
    {
      "cell_type": "code",
      "source": [
        "coefficients[\"Lasso Regression\"] = lasso.coef_.flatten()"
      ],
      "metadata": {
        "id": "cePYQ_uGOHM5"
      },
      "id": "cePYQ_uGOHM5",
      "execution_count": null,
      "outputs": []
    },
    {
      "cell_type": "markdown",
      "source": [
        "## Resultados"
      ],
      "metadata": {
        "id": "WrVRsJ3nJ8ff"
      },
      "id": "WrVRsJ3nJ8ff"
    },
    {
      "cell_type": "markdown",
      "id": "36086105",
      "metadata": {
        "id": "36086105"
      },
      "source": [
        "### Comparação entre os resultados da Regressão Linear, de Ridge e de Lasso sobre este conjunto de dados:"
      ]
    },
    {
      "cell_type": "code",
      "execution_count": null,
      "id": "dd98665b",
      "metadata": {
        "id": "dd98665b"
      },
      "outputs": [],
      "source": [
        "predictions[\"True Value\"] = np.array(y_test).flatten()"
      ]
    },
    {
      "cell_type": "code",
      "execution_count": null,
      "id": "23d919e9",
      "metadata": {
        "id": "23d919e9",
        "colab": {
          "base_uri": "https://localhost:8080/",
          "height": 424
        },
        "outputId": "617c4281-c21e-4367-922a-180135b674f7"
      },
      "outputs": [
        {
          "output_type": "execute_result",
          "data": {
            "text/plain": [
              "     Linear Regression  Ridge Regression  Lasso Regression  True Value\n",
              "0           235.650139        533.359047        533.813151       475.0\n",
              "1          1201.165616        827.230374        755.166242       500.0\n",
              "2           424.732350        537.246810        501.009990       750.0\n",
              "3            43.910840        132.661447        113.305178       100.0\n",
              "4           212.415564        219.409631        135.302024        75.0\n",
              "..                 ...               ...               ...         ...\n",
              "127         520.841444        508.901739        470.792909       550.0\n",
              "128         907.198149        709.181442        759.239838       165.0\n",
              "129        1341.060260        901.385280       1051.181011       875.0\n",
              "130         976.379902        940.945444       1086.585704       960.0\n",
              "131         941.791485        599.018801        611.718891      1000.0\n",
              "\n",
              "[132 rows x 4 columns]"
            ],
            "text/html": [
              "\n",
              "  <div id=\"df-dfaf7a0b-4e64-4ad5-839c-5a64b9a4357b\">\n",
              "    <div class=\"colab-df-container\">\n",
              "      <div>\n",
              "<style scoped>\n",
              "    .dataframe tbody tr th:only-of-type {\n",
              "        vertical-align: middle;\n",
              "    }\n",
              "\n",
              "    .dataframe tbody tr th {\n",
              "        vertical-align: top;\n",
              "    }\n",
              "\n",
              "    .dataframe thead th {\n",
              "        text-align: right;\n",
              "    }\n",
              "</style>\n",
              "<table border=\"1\" class=\"dataframe\">\n",
              "  <thead>\n",
              "    <tr style=\"text-align: right;\">\n",
              "      <th></th>\n",
              "      <th>Linear Regression</th>\n",
              "      <th>Ridge Regression</th>\n",
              "      <th>Lasso Regression</th>\n",
              "      <th>True Value</th>\n",
              "    </tr>\n",
              "  </thead>\n",
              "  <tbody>\n",
              "    <tr>\n",
              "      <th>0</th>\n",
              "      <td>235.650139</td>\n",
              "      <td>533.359047</td>\n",
              "      <td>533.813151</td>\n",
              "      <td>475.0</td>\n",
              "    </tr>\n",
              "    <tr>\n",
              "      <th>1</th>\n",
              "      <td>1201.165616</td>\n",
              "      <td>827.230374</td>\n",
              "      <td>755.166242</td>\n",
              "      <td>500.0</td>\n",
              "    </tr>\n",
              "    <tr>\n",
              "      <th>2</th>\n",
              "      <td>424.732350</td>\n",
              "      <td>537.246810</td>\n",
              "      <td>501.009990</td>\n",
              "      <td>750.0</td>\n",
              "    </tr>\n",
              "    <tr>\n",
              "      <th>3</th>\n",
              "      <td>43.910840</td>\n",
              "      <td>132.661447</td>\n",
              "      <td>113.305178</td>\n",
              "      <td>100.0</td>\n",
              "    </tr>\n",
              "    <tr>\n",
              "      <th>4</th>\n",
              "      <td>212.415564</td>\n",
              "      <td>219.409631</td>\n",
              "      <td>135.302024</td>\n",
              "      <td>75.0</td>\n",
              "    </tr>\n",
              "    <tr>\n",
              "      <th>...</th>\n",
              "      <td>...</td>\n",
              "      <td>...</td>\n",
              "      <td>...</td>\n",
              "      <td>...</td>\n",
              "    </tr>\n",
              "    <tr>\n",
              "      <th>127</th>\n",
              "      <td>520.841444</td>\n",
              "      <td>508.901739</td>\n",
              "      <td>470.792909</td>\n",
              "      <td>550.0</td>\n",
              "    </tr>\n",
              "    <tr>\n",
              "      <th>128</th>\n",
              "      <td>907.198149</td>\n",
              "      <td>709.181442</td>\n",
              "      <td>759.239838</td>\n",
              "      <td>165.0</td>\n",
              "    </tr>\n",
              "    <tr>\n",
              "      <th>129</th>\n",
              "      <td>1341.060260</td>\n",
              "      <td>901.385280</td>\n",
              "      <td>1051.181011</td>\n",
              "      <td>875.0</td>\n",
              "    </tr>\n",
              "    <tr>\n",
              "      <th>130</th>\n",
              "      <td>976.379902</td>\n",
              "      <td>940.945444</td>\n",
              "      <td>1086.585704</td>\n",
              "      <td>960.0</td>\n",
              "    </tr>\n",
              "    <tr>\n",
              "      <th>131</th>\n",
              "      <td>941.791485</td>\n",
              "      <td>599.018801</td>\n",
              "      <td>611.718891</td>\n",
              "      <td>1000.0</td>\n",
              "    </tr>\n",
              "  </tbody>\n",
              "</table>\n",
              "<p>132 rows × 4 columns</p>\n",
              "</div>\n",
              "      <button class=\"colab-df-convert\" onclick=\"convertToInteractive('df-dfaf7a0b-4e64-4ad5-839c-5a64b9a4357b')\"\n",
              "              title=\"Convert this dataframe to an interactive table.\"\n",
              "              style=\"display:none;\">\n",
              "        \n",
              "  <svg xmlns=\"http://www.w3.org/2000/svg\" height=\"24px\"viewBox=\"0 0 24 24\"\n",
              "       width=\"24px\">\n",
              "    <path d=\"M0 0h24v24H0V0z\" fill=\"none\"/>\n",
              "    <path d=\"M18.56 5.44l.94 2.06.94-2.06 2.06-.94-2.06-.94-.94-2.06-.94 2.06-2.06.94zm-11 1L8.5 8.5l.94-2.06 2.06-.94-2.06-.94L8.5 2.5l-.94 2.06-2.06.94zm10 10l.94 2.06.94-2.06 2.06-.94-2.06-.94-.94-2.06-.94 2.06-2.06.94z\"/><path d=\"M17.41 7.96l-1.37-1.37c-.4-.4-.92-.59-1.43-.59-.52 0-1.04.2-1.43.59L10.3 9.45l-7.72 7.72c-.78.78-.78 2.05 0 2.83L4 21.41c.39.39.9.59 1.41.59.51 0 1.02-.2 1.41-.59l7.78-7.78 2.81-2.81c.8-.78.8-2.07 0-2.86zM5.41 20L4 18.59l7.72-7.72 1.47 1.35L5.41 20z\"/>\n",
              "  </svg>\n",
              "      </button>\n",
              "      \n",
              "  <style>\n",
              "    .colab-df-container {\n",
              "      display:flex;\n",
              "      flex-wrap:wrap;\n",
              "      gap: 12px;\n",
              "    }\n",
              "\n",
              "    .colab-df-convert {\n",
              "      background-color: #E8F0FE;\n",
              "      border: none;\n",
              "      border-radius: 50%;\n",
              "      cursor: pointer;\n",
              "      display: none;\n",
              "      fill: #1967D2;\n",
              "      height: 32px;\n",
              "      padding: 0 0 0 0;\n",
              "      width: 32px;\n",
              "    }\n",
              "\n",
              "    .colab-df-convert:hover {\n",
              "      background-color: #E2EBFA;\n",
              "      box-shadow: 0px 1px 2px rgba(60, 64, 67, 0.3), 0px 1px 3px 1px rgba(60, 64, 67, 0.15);\n",
              "      fill: #174EA6;\n",
              "    }\n",
              "\n",
              "    [theme=dark] .colab-df-convert {\n",
              "      background-color: #3B4455;\n",
              "      fill: #D2E3FC;\n",
              "    }\n",
              "\n",
              "    [theme=dark] .colab-df-convert:hover {\n",
              "      background-color: #434B5C;\n",
              "      box-shadow: 0px 1px 3px 1px rgba(0, 0, 0, 0.15);\n",
              "      filter: drop-shadow(0px 1px 2px rgba(0, 0, 0, 0.3));\n",
              "      fill: #FFFFFF;\n",
              "    }\n",
              "  </style>\n",
              "\n",
              "      <script>\n",
              "        const buttonEl =\n",
              "          document.querySelector('#df-dfaf7a0b-4e64-4ad5-839c-5a64b9a4357b button.colab-df-convert');\n",
              "        buttonEl.style.display =\n",
              "          google.colab.kernel.accessAllowed ? 'block' : 'none';\n",
              "\n",
              "        async function convertToInteractive(key) {\n",
              "          const element = document.querySelector('#df-dfaf7a0b-4e64-4ad5-839c-5a64b9a4357b');\n",
              "          const dataTable =\n",
              "            await google.colab.kernel.invokeFunction('convertToInteractive',\n",
              "                                                     [key], {});\n",
              "          if (!dataTable) return;\n",
              "\n",
              "          const docLinkHtml = 'Like what you see? Visit the ' +\n",
              "            '<a target=\"_blank\" href=https://colab.research.google.com/notebooks/data_table.ipynb>data table notebook</a>'\n",
              "            + ' to learn more about interactive tables.';\n",
              "          element.innerHTML = '';\n",
              "          dataTable['output_type'] = 'display_data';\n",
              "          await google.colab.output.renderOutput(dataTable, element);\n",
              "          const docLink = document.createElement('div');\n",
              "          docLink.innerHTML = docLinkHtml;\n",
              "          element.appendChild(docLink);\n",
              "        }\n",
              "      </script>\n",
              "    </div>\n",
              "  </div>\n",
              "  "
            ]
          },
          "metadata": {},
          "execution_count": 280
        }
      ],
      "source": [
        "predictions = pd.DataFrame.from_dict(predictions)\n",
        "predictions"
      ]
    },
    {
      "cell_type": "code",
      "source": [
        "coefficients = pd.DataFrame.from_dict(coefficients)\n",
        "coefficients"
      ],
      "metadata": {
        "colab": {
          "base_uri": "https://localhost:8080/",
          "height": 645
        },
        "id": "VboT8wHoOOBW",
        "outputId": "066158c3-fb21-4256-8baf-c73a9c6257eb"
      },
      "id": "VboT8wHoOOBW",
      "execution_count": null,
      "outputs": [
        {
          "output_type": "execute_result",
          "data": {
            "text/plain": [
              "   Coefficients  Linear Regression  Ridge Regression  Lasso Regression\n",
              "0         AtBat          -2.540275          7.576771          0.000000\n",
              "1          Hits           8.366821         22.596030          0.000000\n",
              "2         HmRun          11.645124         18.971990          2.154219\n",
              "3          Runs          -9.099226         20.193945          0.000000\n",
              "4           RBI           2.441047         21.063875         30.835560\n",
              "5         Walks           9.234403         55.713281        104.071528\n",
              "6         Years         -22.936733         -4.687149         -0.000000\n",
              "7        CAtBat          -0.181539         20.496892          0.000000\n",
              "8         CHits          -0.115982         29.230247          0.000000\n",
              "9        CHmRun          -1.338878         14.293124          0.000000\n",
              "10        CRuns           3.328383         35.881788        132.858095\n",
              "11         CRBI           0.075365         20.212172          0.000000\n",
              "12       CWalks          -1.078410         24.419768          0.000000\n",
              "13      PutOuts          59.760652         16.128910          1.896185\n",
              "14      Assists         -98.862333        -44.102264        -51.058752\n",
              "15       Errors           0.340868         54.624503         76.779641\n",
              "16     League_N           0.341648          5.771464          0.000000\n",
              "17   Division_W          -0.642072         -0.293713          0.000000\n",
              "18  NewLeague_N          -0.674416         11.137518          0.000000"
            ],
            "text/html": [
              "\n",
              "  <div id=\"df-09c6c1c6-15a1-4b90-9445-d0738e74a930\">\n",
              "    <div class=\"colab-df-container\">\n",
              "      <div>\n",
              "<style scoped>\n",
              "    .dataframe tbody tr th:only-of-type {\n",
              "        vertical-align: middle;\n",
              "    }\n",
              "\n",
              "    .dataframe tbody tr th {\n",
              "        vertical-align: top;\n",
              "    }\n",
              "\n",
              "    .dataframe thead th {\n",
              "        text-align: right;\n",
              "    }\n",
              "</style>\n",
              "<table border=\"1\" class=\"dataframe\">\n",
              "  <thead>\n",
              "    <tr style=\"text-align: right;\">\n",
              "      <th></th>\n",
              "      <th>Coefficients</th>\n",
              "      <th>Linear Regression</th>\n",
              "      <th>Ridge Regression</th>\n",
              "      <th>Lasso Regression</th>\n",
              "    </tr>\n",
              "  </thead>\n",
              "  <tbody>\n",
              "    <tr>\n",
              "      <th>0</th>\n",
              "      <td>AtBat</td>\n",
              "      <td>-2.540275</td>\n",
              "      <td>7.576771</td>\n",
              "      <td>0.000000</td>\n",
              "    </tr>\n",
              "    <tr>\n",
              "      <th>1</th>\n",
              "      <td>Hits</td>\n",
              "      <td>8.366821</td>\n",
              "      <td>22.596030</td>\n",
              "      <td>0.000000</td>\n",
              "    </tr>\n",
              "    <tr>\n",
              "      <th>2</th>\n",
              "      <td>HmRun</td>\n",
              "      <td>11.645124</td>\n",
              "      <td>18.971990</td>\n",
              "      <td>2.154219</td>\n",
              "    </tr>\n",
              "    <tr>\n",
              "      <th>3</th>\n",
              "      <td>Runs</td>\n",
              "      <td>-9.099226</td>\n",
              "      <td>20.193945</td>\n",
              "      <td>0.000000</td>\n",
              "    </tr>\n",
              "    <tr>\n",
              "      <th>4</th>\n",
              "      <td>RBI</td>\n",
              "      <td>2.441047</td>\n",
              "      <td>21.063875</td>\n",
              "      <td>30.835560</td>\n",
              "    </tr>\n",
              "    <tr>\n",
              "      <th>5</th>\n",
              "      <td>Walks</td>\n",
              "      <td>9.234403</td>\n",
              "      <td>55.713281</td>\n",
              "      <td>104.071528</td>\n",
              "    </tr>\n",
              "    <tr>\n",
              "      <th>6</th>\n",
              "      <td>Years</td>\n",
              "      <td>-22.936733</td>\n",
              "      <td>-4.687149</td>\n",
              "      <td>-0.000000</td>\n",
              "    </tr>\n",
              "    <tr>\n",
              "      <th>7</th>\n",
              "      <td>CAtBat</td>\n",
              "      <td>-0.181539</td>\n",
              "      <td>20.496892</td>\n",
              "      <td>0.000000</td>\n",
              "    </tr>\n",
              "    <tr>\n",
              "      <th>8</th>\n",
              "      <td>CHits</td>\n",
              "      <td>-0.115982</td>\n",
              "      <td>29.230247</td>\n",
              "      <td>0.000000</td>\n",
              "    </tr>\n",
              "    <tr>\n",
              "      <th>9</th>\n",
              "      <td>CHmRun</td>\n",
              "      <td>-1.338878</td>\n",
              "      <td>14.293124</td>\n",
              "      <td>0.000000</td>\n",
              "    </tr>\n",
              "    <tr>\n",
              "      <th>10</th>\n",
              "      <td>CRuns</td>\n",
              "      <td>3.328383</td>\n",
              "      <td>35.881788</td>\n",
              "      <td>132.858095</td>\n",
              "    </tr>\n",
              "    <tr>\n",
              "      <th>11</th>\n",
              "      <td>CRBI</td>\n",
              "      <td>0.075365</td>\n",
              "      <td>20.212172</td>\n",
              "      <td>0.000000</td>\n",
              "    </tr>\n",
              "    <tr>\n",
              "      <th>12</th>\n",
              "      <td>CWalks</td>\n",
              "      <td>-1.078410</td>\n",
              "      <td>24.419768</td>\n",
              "      <td>0.000000</td>\n",
              "    </tr>\n",
              "    <tr>\n",
              "      <th>13</th>\n",
              "      <td>PutOuts</td>\n",
              "      <td>59.760652</td>\n",
              "      <td>16.128910</td>\n",
              "      <td>1.896185</td>\n",
              "    </tr>\n",
              "    <tr>\n",
              "      <th>14</th>\n",
              "      <td>Assists</td>\n",
              "      <td>-98.862333</td>\n",
              "      <td>-44.102264</td>\n",
              "      <td>-51.058752</td>\n",
              "    </tr>\n",
              "    <tr>\n",
              "      <th>15</th>\n",
              "      <td>Errors</td>\n",
              "      <td>0.340868</td>\n",
              "      <td>54.624503</td>\n",
              "      <td>76.779641</td>\n",
              "    </tr>\n",
              "    <tr>\n",
              "      <th>16</th>\n",
              "      <td>League_N</td>\n",
              "      <td>0.341648</td>\n",
              "      <td>5.771464</td>\n",
              "      <td>0.000000</td>\n",
              "    </tr>\n",
              "    <tr>\n",
              "      <th>17</th>\n",
              "      <td>Division_W</td>\n",
              "      <td>-0.642072</td>\n",
              "      <td>-0.293713</td>\n",
              "      <td>0.000000</td>\n",
              "    </tr>\n",
              "    <tr>\n",
              "      <th>18</th>\n",
              "      <td>NewLeague_N</td>\n",
              "      <td>-0.674416</td>\n",
              "      <td>11.137518</td>\n",
              "      <td>0.000000</td>\n",
              "    </tr>\n",
              "  </tbody>\n",
              "</table>\n",
              "</div>\n",
              "      <button class=\"colab-df-convert\" onclick=\"convertToInteractive('df-09c6c1c6-15a1-4b90-9445-d0738e74a930')\"\n",
              "              title=\"Convert this dataframe to an interactive table.\"\n",
              "              style=\"display:none;\">\n",
              "        \n",
              "  <svg xmlns=\"http://www.w3.org/2000/svg\" height=\"24px\"viewBox=\"0 0 24 24\"\n",
              "       width=\"24px\">\n",
              "    <path d=\"M0 0h24v24H0V0z\" fill=\"none\"/>\n",
              "    <path d=\"M18.56 5.44l.94 2.06.94-2.06 2.06-.94-2.06-.94-.94-2.06-.94 2.06-2.06.94zm-11 1L8.5 8.5l.94-2.06 2.06-.94-2.06-.94L8.5 2.5l-.94 2.06-2.06.94zm10 10l.94 2.06.94-2.06 2.06-.94-2.06-.94-.94-2.06-.94 2.06-2.06.94z\"/><path d=\"M17.41 7.96l-1.37-1.37c-.4-.4-.92-.59-1.43-.59-.52 0-1.04.2-1.43.59L10.3 9.45l-7.72 7.72c-.78.78-.78 2.05 0 2.83L4 21.41c.39.39.9.59 1.41.59.51 0 1.02-.2 1.41-.59l7.78-7.78 2.81-2.81c.8-.78.8-2.07 0-2.86zM5.41 20L4 18.59l7.72-7.72 1.47 1.35L5.41 20z\"/>\n",
              "  </svg>\n",
              "      </button>\n",
              "      \n",
              "  <style>\n",
              "    .colab-df-container {\n",
              "      display:flex;\n",
              "      flex-wrap:wrap;\n",
              "      gap: 12px;\n",
              "    }\n",
              "\n",
              "    .colab-df-convert {\n",
              "      background-color: #E8F0FE;\n",
              "      border: none;\n",
              "      border-radius: 50%;\n",
              "      cursor: pointer;\n",
              "      display: none;\n",
              "      fill: #1967D2;\n",
              "      height: 32px;\n",
              "      padding: 0 0 0 0;\n",
              "      width: 32px;\n",
              "    }\n",
              "\n",
              "    .colab-df-convert:hover {\n",
              "      background-color: #E2EBFA;\n",
              "      box-shadow: 0px 1px 2px rgba(60, 64, 67, 0.3), 0px 1px 3px 1px rgba(60, 64, 67, 0.15);\n",
              "      fill: #174EA6;\n",
              "    }\n",
              "\n",
              "    [theme=dark] .colab-df-convert {\n",
              "      background-color: #3B4455;\n",
              "      fill: #D2E3FC;\n",
              "    }\n",
              "\n",
              "    [theme=dark] .colab-df-convert:hover {\n",
              "      background-color: #434B5C;\n",
              "      box-shadow: 0px 1px 3px 1px rgba(0, 0, 0, 0.15);\n",
              "      filter: drop-shadow(0px 1px 2px rgba(0, 0, 0, 0.3));\n",
              "      fill: #FFFFFF;\n",
              "    }\n",
              "  </style>\n",
              "\n",
              "      <script>\n",
              "        const buttonEl =\n",
              "          document.querySelector('#df-09c6c1c6-15a1-4b90-9445-d0738e74a930 button.colab-df-convert');\n",
              "        buttonEl.style.display =\n",
              "          google.colab.kernel.accessAllowed ? 'block' : 'none';\n",
              "\n",
              "        async function convertToInteractive(key) {\n",
              "          const element = document.querySelector('#df-09c6c1c6-15a1-4b90-9445-d0738e74a930');\n",
              "          const dataTable =\n",
              "            await google.colab.kernel.invokeFunction('convertToInteractive',\n",
              "                                                     [key], {});\n",
              "          if (!dataTable) return;\n",
              "\n",
              "          const docLinkHtml = 'Like what you see? Visit the ' +\n",
              "            '<a target=\"_blank\" href=https://colab.research.google.com/notebooks/data_table.ipynb>data table notebook</a>'\n",
              "            + ' to learn more about interactive tables.';\n",
              "          element.innerHTML = '';\n",
              "          dataTable['output_type'] = 'display_data';\n",
              "          await google.colab.output.renderOutput(dataTable, element);\n",
              "          const docLink = document.createElement('div');\n",
              "          docLink.innerHTML = docLinkHtml;\n",
              "          element.appendChild(docLink);\n",
              "        }\n",
              "      </script>\n",
              "    </div>\n",
              "  </div>\n",
              "  "
            ]
          },
          "metadata": {},
          "execution_count": 281
        }
      ]
    },
    {
      "cell_type": "code",
      "source": [
        "models.at[\"Linear Regression\", \"Erro padrão\"] = math.sqrt(((predictions[\"Linear Regression\"] - predictions[\"True Value\"]).apply(lambda i: i ** 2)).sum() / (len(predictions) - 2))\n",
        "models.at[\"Ridge Regression\", \"Erro padrão\"] = math.sqrt(((predictions[\"Ridge Regression\"] - predictions[\"True Value\"]).apply(lambda i: i ** 2)).sum() / (len(predictions) - 2))\n",
        "models.at[\"Lasso Regression\", \"Erro padrão\"] = math.sqrt(((predictions[\"Lasso Regression\"] - predictions[\"True Value\"]).apply(lambda i: i ** 2)).sum() / (len(predictions) - 2))"
      ],
      "metadata": {
        "id": "e0BY_ZP2TsZC"
      },
      "id": "e0BY_ZP2TsZC",
      "execution_count": null,
      "outputs": []
    },
    {
      "cell_type": "code",
      "source": [
        "models"
      ],
      "metadata": {
        "colab": {
          "base_uri": "https://localhost:8080/",
          "height": 143
        },
        "id": "xP0tuSUmMzAs",
        "outputId": "881277fa-99c2-4a94-d2ea-4ebeef4cb33b"
      },
      "id": "xP0tuSUmMzAs",
      "execution_count": null,
      "outputs": [
        {
          "output_type": "execute_result",
          "data": {
            "text/plain": [
              "                             EQM  Erro padrão\n",
              "Linear Regression  114780.610448   341.389024\n",
              "Ridge Regression    97384.929592   314.456928\n",
              "Lasso Regression   102924.909547   323.277543"
            ],
            "text/html": [
              "\n",
              "  <div id=\"df-a76d5d0d-a4a5-4818-b03d-ee62c9bd3a59\">\n",
              "    <div class=\"colab-df-container\">\n",
              "      <div>\n",
              "<style scoped>\n",
              "    .dataframe tbody tr th:only-of-type {\n",
              "        vertical-align: middle;\n",
              "    }\n",
              "\n",
              "    .dataframe tbody tr th {\n",
              "        vertical-align: top;\n",
              "    }\n",
              "\n",
              "    .dataframe thead th {\n",
              "        text-align: right;\n",
              "    }\n",
              "</style>\n",
              "<table border=\"1\" class=\"dataframe\">\n",
              "  <thead>\n",
              "    <tr style=\"text-align: right;\">\n",
              "      <th></th>\n",
              "      <th>EQM</th>\n",
              "      <th>Erro padrão</th>\n",
              "    </tr>\n",
              "  </thead>\n",
              "  <tbody>\n",
              "    <tr>\n",
              "      <th>Linear Regression</th>\n",
              "      <td>114780.610448</td>\n",
              "      <td>341.389024</td>\n",
              "    </tr>\n",
              "    <tr>\n",
              "      <th>Ridge Regression</th>\n",
              "      <td>97384.929592</td>\n",
              "      <td>314.456928</td>\n",
              "    </tr>\n",
              "    <tr>\n",
              "      <th>Lasso Regression</th>\n",
              "      <td>102924.909547</td>\n",
              "      <td>323.277543</td>\n",
              "    </tr>\n",
              "  </tbody>\n",
              "</table>\n",
              "</div>\n",
              "      <button class=\"colab-df-convert\" onclick=\"convertToInteractive('df-a76d5d0d-a4a5-4818-b03d-ee62c9bd3a59')\"\n",
              "              title=\"Convert this dataframe to an interactive table.\"\n",
              "              style=\"display:none;\">\n",
              "        \n",
              "  <svg xmlns=\"http://www.w3.org/2000/svg\" height=\"24px\"viewBox=\"0 0 24 24\"\n",
              "       width=\"24px\">\n",
              "    <path d=\"M0 0h24v24H0V0z\" fill=\"none\"/>\n",
              "    <path d=\"M18.56 5.44l.94 2.06.94-2.06 2.06-.94-2.06-.94-.94-2.06-.94 2.06-2.06.94zm-11 1L8.5 8.5l.94-2.06 2.06-.94-2.06-.94L8.5 2.5l-.94 2.06-2.06.94zm10 10l.94 2.06.94-2.06 2.06-.94-2.06-.94-.94-2.06-.94 2.06-2.06.94z\"/><path d=\"M17.41 7.96l-1.37-1.37c-.4-.4-.92-.59-1.43-.59-.52 0-1.04.2-1.43.59L10.3 9.45l-7.72 7.72c-.78.78-.78 2.05 0 2.83L4 21.41c.39.39.9.59 1.41.59.51 0 1.02-.2 1.41-.59l7.78-7.78 2.81-2.81c.8-.78.8-2.07 0-2.86zM5.41 20L4 18.59l7.72-7.72 1.47 1.35L5.41 20z\"/>\n",
              "  </svg>\n",
              "      </button>\n",
              "      \n",
              "  <style>\n",
              "    .colab-df-container {\n",
              "      display:flex;\n",
              "      flex-wrap:wrap;\n",
              "      gap: 12px;\n",
              "    }\n",
              "\n",
              "    .colab-df-convert {\n",
              "      background-color: #E8F0FE;\n",
              "      border: none;\n",
              "      border-radius: 50%;\n",
              "      cursor: pointer;\n",
              "      display: none;\n",
              "      fill: #1967D2;\n",
              "      height: 32px;\n",
              "      padding: 0 0 0 0;\n",
              "      width: 32px;\n",
              "    }\n",
              "\n",
              "    .colab-df-convert:hover {\n",
              "      background-color: #E2EBFA;\n",
              "      box-shadow: 0px 1px 2px rgba(60, 64, 67, 0.3), 0px 1px 3px 1px rgba(60, 64, 67, 0.15);\n",
              "      fill: #174EA6;\n",
              "    }\n",
              "\n",
              "    [theme=dark] .colab-df-convert {\n",
              "      background-color: #3B4455;\n",
              "      fill: #D2E3FC;\n",
              "    }\n",
              "\n",
              "    [theme=dark] .colab-df-convert:hover {\n",
              "      background-color: #434B5C;\n",
              "      box-shadow: 0px 1px 3px 1px rgba(0, 0, 0, 0.15);\n",
              "      filter: drop-shadow(0px 1px 2px rgba(0, 0, 0, 0.3));\n",
              "      fill: #FFFFFF;\n",
              "    }\n",
              "  </style>\n",
              "\n",
              "      <script>\n",
              "        const buttonEl =\n",
              "          document.querySelector('#df-a76d5d0d-a4a5-4818-b03d-ee62c9bd3a59 button.colab-df-convert');\n",
              "        buttonEl.style.display =\n",
              "          google.colab.kernel.accessAllowed ? 'block' : 'none';\n",
              "\n",
              "        async function convertToInteractive(key) {\n",
              "          const element = document.querySelector('#df-a76d5d0d-a4a5-4818-b03d-ee62c9bd3a59');\n",
              "          const dataTable =\n",
              "            await google.colab.kernel.invokeFunction('convertToInteractive',\n",
              "                                                     [key], {});\n",
              "          if (!dataTable) return;\n",
              "\n",
              "          const docLinkHtml = 'Like what you see? Visit the ' +\n",
              "            '<a target=\"_blank\" href=https://colab.research.google.com/notebooks/data_table.ipynb>data table notebook</a>'\n",
              "            + ' to learn more about interactive tables.';\n",
              "          element.innerHTML = '';\n",
              "          dataTable['output_type'] = 'display_data';\n",
              "          await google.colab.output.renderOutput(dataTable, element);\n",
              "          const docLink = document.createElement('div');\n",
              "          docLink.innerHTML = docLinkHtml;\n",
              "          element.appendChild(docLink);\n",
              "        }\n",
              "      </script>\n",
              "    </div>\n",
              "  </div>\n",
              "  "
            ]
          },
          "metadata": {},
          "execution_count": 283
        }
      ]
    },
    {
      "cell_type": "markdown",
      "source": [
        "## Referências"
      ],
      "metadata": {
        "id": "hZLS0thWJEDB"
      },
      "id": "hZLS0thWJEDB"
    },
    {
      "cell_type": "markdown",
      "source": [
        "SINGHAL, A. Machine Learning: Ridge Regression in Detail. 2018. Disponível em: <https://towardsdatascience.com/machine-learning-ridge-regression-in-detail-76787a2f8e2d>."
      ],
      "metadata": {
        "id": "Nm3bpDp7JGiL"
      },
      "id": "Nm3bpDp7JGiL"
    },
    {
      "cell_type": "markdown",
      "source": [
        "MENON, A. Linear Regression Using Least Squares. 2018. Disponível em: <https://towardsdatascience.com/linear-regression-using-least-squares-a4c3456e8570>"
      ],
      "metadata": {
        "id": "rt8FPurs8p7F"
      },
      "id": "rt8FPurs8p7F"
    }
  ],
  "metadata": {
    "kernelspec": {
      "display_name": "Python 3 (ipykernel)",
      "language": "python",
      "name": "python3"
    },
    "language_info": {
      "codemirror_mode": {
        "name": "ipython",
        "version": 3
      },
      "file_extension": ".py",
      "mimetype": "text/x-python",
      "name": "python",
      "nbconvert_exporter": "python",
      "pygments_lexer": "ipython3",
      "version": "3.8.10"
    },
    "colab": {
      "provenance": [],
      "include_colab_link": true
    }
  },
  "nbformat": 4,
  "nbformat_minor": 5
}